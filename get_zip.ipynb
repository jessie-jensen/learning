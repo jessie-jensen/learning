{
 "cells": [
  {
   "cell_type": "markdown",
   "metadata": {},
   "source": [
    "# use geopy to get zipcode"
   ]
  },
  {
   "cell_type": "code",
   "execution_count": 13,
   "metadata": {},
   "outputs": [],
   "source": [
    "from geopy.geocoders import Nominatim\n",
    "\n",
    "geoloc = Nominatim()\n"
   ]
  },
  {
   "cell_type": "code",
   "execution_count": 14,
   "metadata": {},
   "outputs": [
    {
     "data": {
      "text/plain": [
       "98134"
      ]
     },
     "execution_count": 14,
     "metadata": {},
     "output_type": "execute_result"
    }
   ],
   "source": [
    "def get_zip(lat, long):\n",
    "    lat_long_s = str(lat) + ',' + str(long)\n",
    "    loc = geoloc.reverse(lat_long_s)\n",
    "    zipcode = int(loc.raw['address']['postcode'])\n",
    "    \n",
    "    return zipcode\n",
    "\n",
    "# test\n",
    "get_zip(47.581055,-122.3374657)"
   ]
  },
  {
   "cell_type": "code",
   "execution_count": 15,
   "metadata": {},
   "outputs": [
    {
     "data": {
      "text/plain": [
       "{'address': {'city': 'Seattle',\n",
       "  'country': 'United States of America',\n",
       "  'country_code': 'us',\n",
       "  'county': 'King County',\n",
       "  'house_number': '2534',\n",
       "  'postcode': '98134',\n",
       "  'road': 'Colorado Avenue South',\n",
       "  'state': 'Washington',\n",
       "  'suburb': 'International District/Chinatown'},\n",
       " 'boundingbox': ['47.580951708661',\n",
       "  '47.581151708661',\n",
       "  '-122.337009',\n",
       "  '-122.336809'],\n",
       " 'display_name': '2534, Colorado Avenue South, International District/Chinatown, Seattle, King County, Washington, 98134, United States of America',\n",
       " 'lat': '47.5810517086614',\n",
       " 'licence': 'Data © OpenStreetMap contributors, ODbL 1.0. https://osm.org/copyright',\n",
       " 'lon': '-122.336909',\n",
       " 'osm_id': '436627737',\n",
       " 'osm_type': 'way',\n",
       " 'place_id': '215019101'}"
      ]
     },
     "execution_count": 15,
     "metadata": {},
     "output_type": "execute_result"
    }
   ],
   "source": [
    "lat_long_s = str(47.581055) + ',' + str(-122.3374657)\n",
    "loc = geoloc.reverse(lat_long_s)\n",
    "loc.raw"
   ]
  },
  {
   "cell_type": "markdown",
   "metadata": {
    "collapsed": true
   },
   "source": [
    "### using uszipcode"
   ]
  },
  {
   "cell_type": "code",
   "execution_count": 16,
   "metadata": {},
   "outputs": [],
   "source": [
    "from uszipcode import ZipcodeSearchEngine\n",
    "zip_search = ZipcodeSearchEngine()"
   ]
  },
  {
   "cell_type": "code",
   "execution_count": 17,
   "metadata": {},
   "outputs": [
    {
     "data": {
      "text/plain": [
       "{\"City\": \"New York\", \"Density\": 34035.48387096774, \"HouseOfUnits\": 12476, \"LandArea\": 0.62, \"Latitude\": 40.75368539999999, \"Longitude\": -73.9991637, \"NEBoundLatitude\": 40.8282129, \"NEBoundLongitude\": -73.9321059, \"Population\": 21102, \"SWBoundLatitude\": 40.743451, \"SWBoungLongitude\": -74.00794499999998, \"State\": \"NY\", \"TotalWages\": 1031960117.0, \"WaterArea\": 0.0, \"Wealthy\": 48903.42702113544, \"Zipcode\": \"10001\", \"ZipcodeType\": \"Standard\"}"
      ]
     },
     "execution_count": 17,
     "metadata": {},
     "output_type": "execute_result"
    }
   ],
   "source": [
    "loc = zip_search.by_zipcode('10001')\n",
    "loc"
   ]
  },
  {
   "cell_type": "code",
   "execution_count": 25,
   "metadata": {},
   "outputs": [
    {
     "data": {
      "text/plain": [
       "[{\"City\": \"Seattle\", \"Density\": 191.0979228486647, \"HouseOfUnits\": 236, \"LandArea\": 3.37, \"Latitude\": 47.583863, \"Longitude\": -122.34067479999999, \"NEBoundLatitude\": 47.599219899999994, \"NEBoundLongitude\": -122.31717409999999, \"Population\": 644, \"SWBoundLatitude\": 47.542195899999996, \"SWBoungLongitude\": -122.364466, \"State\": \"WA\", \"TotalWages\": 24144410.0, \"WaterArea\": 0.73, \"Wealthy\": 37491.319875776404, \"Zipcode\": \"98134\", \"ZipcodeType\": \"Standard\"}]"
      ]
     },
     "execution_count": 25,
     "metadata": {},
     "output_type": "execute_result"
    }
   ],
   "source": [
    "loc = zip_search.by_coordinate(47.581055,-122.3374657, returns=1)\n",
    "loc"
   ]
  },
  {
   "cell_type": "code",
   "execution_count": 27,
   "metadata": {},
   "outputs": [
    {
     "data": {
      "text/plain": [
       "98134"
      ]
     },
     "execution_count": 27,
     "metadata": {},
     "output_type": "execute_result"
    }
   ],
   "source": [
    "def get_zip2(lat, long):\n",
    "    zip_search = ZipcodeSearchEngine()\n",
    "    loc = zip_search.by_coordinate(lat, long, returns=1)\n",
    "    zipcode = int(loc[0]['Zipcode'])\n",
    "    \n",
    "    return zipcode\n",
    "\n",
    "# test\n",
    "get_zip2(47.581055,-122.3374657)"
   ]
  },
  {
   "cell_type": "code",
   "execution_count": null,
   "metadata": {},
   "outputs": [],
   "source": []
  }
 ],
 "metadata": {
  "kernelspec": {
   "display_name": "Python 3",
   "language": "python",
   "name": "python3"
  },
  "language_info": {
   "codemirror_mode": {
    "name": "ipython",
    "version": 3
   },
   "file_extension": ".py",
   "mimetype": "text/x-python",
   "name": "python",
   "nbconvert_exporter": "python",
   "pygments_lexer": "ipython3",
   "version": "3.6.4"
  }
 },
 "nbformat": 4,
 "nbformat_minor": 2
}
