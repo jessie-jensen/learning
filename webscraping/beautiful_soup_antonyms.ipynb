{
 "cells": [
  {
   "cell_type": "code",
   "execution_count": 29,
   "metadata": {},
   "outputs": [],
   "source": [
    "import requests\n",
    "from bs4 import BeautifulSoup"
   ]
  },
  {
   "cell_type": "code",
   "execution_count": 30,
   "metadata": {},
   "outputs": [],
   "source": [
    "def get_thesarus_html_soup(word):\n",
    "    root = 'http://www.thesaurus.com/browse/'\n",
    "\n",
    "    r = requests.get(url = root + word)\n",
    "    soup = BeautifulSoup(r.text, 'html.parser')\n",
    "    \n",
    "    return soup"
   ]
  },
  {
   "cell_type": "code",
   "execution_count": 31,
   "metadata": {},
   "outputs": [],
   "source": [
    "def print_antonyms(word):\n",
    "    soup = get_thesarus_html_soup(word)\n",
    "    antonyms = soup.find_all('a', {'class':'css-1usnxsl e1s2bo4t1'})\n",
    "    \n",
    "    if len(antonyms) > 0:\n",
    "        print('\\nAntonyms for \"', word, '\":', sep='')\n",
    "        for antonym in antonyms:\n",
    "            print(antonym.string)\n",
    "    else:\n",
    "        print('\\nNo strong antonyms')"
   ]
  },
  {
   "cell_type": "code",
   "execution_count": 33,
   "metadata": {},
   "outputs": [
    {
     "name": "stdout",
     "output_type": "stream",
     "text": [
      "What word should I fetch antonyms from Thesaurus.com for?\n",
      "solid\n",
      "\n",
      "Antonyms for \"solid\":\n",
      "unstable\n",
      "weak\n",
      "wobbly\n"
     ]
    }
   ],
   "source": [
    "# run for basic ui\n",
    "word = input('What word should I fetch antonyms from Thesaurus.com for?\\n')\n",
    "print_antonyms(word)"
   ]
  },
  {
   "cell_type": "code",
   "execution_count": null,
   "metadata": {},
   "outputs": [],
   "source": []
  }
 ],
 "metadata": {
  "kernelspec": {
   "display_name": "Python 3",
   "language": "python",
   "name": "python3"
  },
  "language_info": {
   "codemirror_mode": {
    "name": "ipython",
    "version": 3
   },
   "file_extension": ".py",
   "mimetype": "text/x-python",
   "name": "python",
   "nbconvert_exporter": "python",
   "pygments_lexer": "ipython3",
   "version": "3.6.4"
  }
 },
 "nbformat": 4,
 "nbformat_minor": 2
}
