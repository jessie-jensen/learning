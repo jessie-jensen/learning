{
 "cells": [
  {
   "cell_type": "markdown",
   "metadata": {},
   "source": [
    "### prep"
   ]
  },
  {
   "cell_type": "code",
   "execution_count": 6,
   "metadata": {},
   "outputs": [],
   "source": [
    "import tensorflow as tf\n",
    "import numpy as np\n",
    "\n",
    "from tensorflow.examples.tutorials.mnist import input_data\n",
    "\n",
    "import matplotlib.pyplot as plt"
   ]
  },
  {
   "cell_type": "code",
   "execution_count": 12,
   "metadata": {},
   "outputs": [
    {
     "name": "stdout",
     "output_type": "stream",
     "text": [
      "Downloading data from http://fashion-mnist.s3-website.eu-central-1.amazonaws.com/train-labels-idx1-ubyte.gz\n",
      "32768/29515 [=================================] - 0s 7us/step\n",
      "Downloading data from http://fashion-mnist.s3-website.eu-central-1.amazonaws.com/train-images-idx3-ubyte.gz\n",
      "26427392/26421880 [==============================] - 39s 1us/step\n",
      "Downloading data from http://fashion-mnist.s3-website.eu-central-1.amazonaws.com/t10k-labels-idx1-ubyte.gz\n",
      "8192/5148 [===============================================] - 0s 0us/step\n",
      "Downloading data from http://fashion-mnist.s3-website.eu-central-1.amazonaws.com/t10k-images-idx3-ubyte.gz\n",
      "4423680/4422102 [==============================] - 20s 5us/step\n"
     ]
    }
   ],
   "source": [
    "from tensorflow import keras\n",
    "\n",
    "fashion_mnist = keras.datasets.fashion_mnist.load_data()"
   ]
  },
  {
   "cell_type": "code",
   "execution_count": 15,
   "metadata": {},
   "outputs": [
    {
     "data": {
      "text/plain": [
       "(60000, 28, 28)"
      ]
     },
     "execution_count": 15,
     "metadata": {},
     "output_type": "execute_result"
    }
   ],
   "source": [
    "(train_images, train_labels), (test_images, test_labels) = fashion_mnist\n",
    "\n",
    "train_images.shape"
   ]
  },
  {
   "cell_type": "code",
   "execution_count": 20,
   "metadata": {},
   "outputs": [
    {
     "data": {
      "text/plain": [
       "(10000, 28, 28)"
      ]
     },
     "execution_count": 20,
     "metadata": {},
     "output_type": "execute_result"
    }
   ],
   "source": [
    "test_images.shape"
   ]
  },
  {
   "cell_type": "code",
   "execution_count": 41,
   "metadata": {},
   "outputs": [
    {
     "data": {
      "text/plain": [
       "(60000,)"
      ]
     },
     "execution_count": 41,
     "metadata": {},
     "output_type": "execute_result"
    }
   ],
   "source": [
    "train_labels.shape"
   ]
  },
  {
   "cell_type": "code",
   "execution_count": 42,
   "metadata": {},
   "outputs": [
    {
     "data": {
      "text/plain": [
       "array([9, 0, 0, 3, 0, 2, 7, 2, 5, 5], dtype=uint8)"
      ]
     },
     "execution_count": 42,
     "metadata": {},
     "output_type": "execute_result"
    }
   ],
   "source": [
    "train_labels[:10]"
   ]
  },
  {
   "cell_type": "raw",
   "metadata": {},
   "source": []
  },
  {
   "cell_type": "code",
   "execution_count": 44,
   "metadata": {},
   "outputs": [
    {
     "data": {
      "text/plain": [
       "array([[0., 0., 0., 0., 0., 0., 0., 0., 0., 1.],\n",
       "       [1., 0., 0., 0., 0., 0., 0., 0., 0., 0.],\n",
       "       [1., 0., 0., 0., 0., 0., 0., 0., 0., 0.],\n",
       "       [0., 0., 0., 1., 0., 0., 0., 0., 0., 0.],\n",
       "       [1., 0., 0., 0., 0., 0., 0., 0., 0., 0.],\n",
       "       [0., 0., 1., 0., 0., 0., 0., 0., 0., 0.],\n",
       "       [0., 0., 0., 0., 0., 0., 0., 1., 0., 0.],\n",
       "       [0., 0., 1., 0., 0., 0., 0., 0., 0., 0.],\n",
       "       [0., 0., 0., 0., 0., 1., 0., 0., 0., 0.],\n",
       "       [0., 0., 0., 0., 0., 1., 0., 0., 0., 0.]])"
      ]
     },
     "execution_count": 44,
     "metadata": {},
     "output_type": "execute_result"
    }
   ],
   "source": [
    "train_labels_oh = np.zeros((train_labels.shape[0], 10))\n",
    "train_labels_oh[np.arange(train_labels.shape[0]), train_labels] = 1\n",
    "\n",
    "train_labels_oh[:10]"
   ]
  },
  {
   "cell_type": "code",
   "execution_count": 45,
   "metadata": {},
   "outputs": [],
   "source": [
    "test_labels_oh = np.zeros((test_labels.shape[0], 10))\n",
    "test_labels_oh[np.arange(test_labels.shape[0]), test_labels] = 1"
   ]
  },
  {
   "cell_type": "code",
   "execution_count": 46,
   "metadata": {},
   "outputs": [
    {
     "data": {
      "text/plain": [
       "<matplotlib.image.AxesImage at 0x1c499f4128>"
      ]
     },
     "execution_count": 46,
     "metadata": {},
     "output_type": "execute_result"
    },
    {
     "data": {
      "image/png": "[encoded data removed]",
      "text/plain": [
       "<matplotlib.figure.Figure at 0x1c465a7ac8>"
      ]
     },
     "metadata": {},
     "output_type": "display_data"
    }
   ],
   "source": [
    "plt.imshow(train_images[0], cmap='Greys')"
   ]
  },
  {
   "cell_type": "code",
   "execution_count": 47,
   "metadata": {},
   "outputs": [
    {
     "data": {
      "text/plain": [
       "<matplotlib.image.AxesImage at 0x1c49ed9cf8>"
      ]
     },
     "execution_count": 47,
     "metadata": {},
     "output_type": "execute_result"
    },
    {
     "data": {
      "image/png": "[encoded data removed]",
      "text/plain": [
       "<matplotlib.figure.Figure at 0x1c499e5630>"
      ]
     },
     "metadata": {},
     "output_type": "display_data"
    }
   ],
   "source": [
    "plt.imshow(train_images[100], cmap='Greys')"
   ]
  },
  {
   "cell_type": "code",
   "execution_count": 48,
   "metadata": {},
   "outputs": [],
   "source": [
    "labels = {\n",
    "    0:'T-shirt/top',\n",
    "    1:'Trouser',\n",
    "    2:'Pullover', \n",
    "    3:'Dress', \n",
    "    4:'Coat', \n",
    "    5:'Sandal', \n",
    "    6:'Shirt', \n",
    "    7:'Sneaker', \n",
    "    8:'Bag', \n",
    "    9:'Ankle boot'\n",
    "}"
   ]
  },
  {
   "cell_type": "code",
   "execution_count": 49,
   "metadata": {},
   "outputs": [],
   "source": [
    "tf.reset_default_graph()"
   ]
  },
  {
   "cell_type": "code",
   "execution_count": 50,
   "metadata": {},
   "outputs": [],
   "source": [
    "LEARN_RATE = 0.1"
   ]
  },
  {
   "cell_type": "markdown",
   "metadata": {},
   "source": [
    "### tensor definitions"
   ]
  },
  {
   "cell_type": "code",
   "execution_count": 51,
   "metadata": {},
   "outputs": [],
   "source": [
    "X = tf.placeholder(tf.float32, [None, 28, 28])\n",
    "X_shaped = tf.reshape(X, [-1, 28, 28, 1])\n",
    "y = tf.placeholder(tf.float32, [None, 10])\n",
    "\n",
    "# convolution\n",
    "def conv2d(X, w):\n",
    "    return tf.nn.conv2d(X,\n",
    "                       w,\n",
    "                       strides=[1,1,1,1],\n",
    "                       padding='SAME')\n",
    "# max pooling\n",
    "def maxpool2d(X):\n",
    "    return tf.nn.max_pool(X,\n",
    "                         ksize=[1,2,2,1],\n",
    "                         strides=[1,2,2,1],\n",
    "                         padding='SAME')\n",
    "\n",
    "# weight + bias inits\n",
    "# [filter_shape_x, filter_shape_y, inputs (channels), outputs]\n",
    "w_c1 = tf.Variable(tf.random_normal([5, 5, 1, 32]))\n",
    "w_c2 = tf.Variable(tf.random_normal([5, 5, 32, 64]))\n",
    "\n",
    "b_c1 = tf.Variable(tf.random_normal([32]))\n",
    "b_c2 = tf.Variable(tf.random_normal([64]))\n",
    "\n",
    "# feed through convolution layers\n",
    "act_c1 = tf.nn.relu(conv2d(X_shaped, w_c1) + b_c1)\n",
    "c1 = maxpool2d(act_c1)\n",
    "\n",
    "act_c2 = tf.nn.relu(conv2d(c1, w_c2) + b_c2)\n",
    "c2 = maxpool2d(act_c2)\n",
    "\n",
    "# flatten\n",
    "x_flat = tf.reshape(c2, [-1, 7*7*64])\n",
    "\n",
    "# fully connected hidden layer\n",
    "w_fc = tf.Variable(tf.random_normal([7*7*64, 1024]))\n",
    "b_fc = tf.Variable(tf.random_normal([1024]))\n",
    "\n",
    "fc = tf.nn.relu(tf.matmul(x_flat, w_fc) + b_fc)\n",
    "\n",
    "# output layer\n",
    "w_out = tf.Variable(tf.random_normal([1024, 10]))\n",
    "b_out = tf.Variable(tf.random_normal([10]))\n",
    "\n",
    "output = tf.matmul(fc, w_out) + b_out\n",
    "y_hat = tf.nn.softmax(output)\n",
    "\n",
    "# cost & optimizer\n",
    "cross_entropy_loss = tf.reduce_mean(tf.nn.softmax_cross_entropy_with_logits(logits=output,\n",
    "                                                                           labels=y))\n",
    "optimizer = tf.train.AdamOptimizer(learning_rate=LEARN_RATE)\\\n",
    "        .minimize(cross_entropy_loss)\n",
    "\n",
    "# accuracy\n",
    "correct_prediction = tf.equal(tf.argmax(y, 1), tf.argmax(y_hat, 1))\n",
    "accuracy = tf.reduce_mean(tf.cast(correct_prediction, tf.float32))"
   ]
  },
  {
   "cell_type": "markdown",
   "metadata": {},
   "source": [
    "### run session"
   ]
  },
  {
   "cell_type": "code",
   "execution_count": 54,
   "metadata": {},
   "outputs": [],
   "source": [
    "EPOCHS = 5\n",
    "BATCH_SIZE = 100"
   ]
  },
  {
   "cell_type": "code",
   "execution_count": 55,
   "metadata": {},
   "outputs": [
    {
     "name": "stdout",
     "output_type": "stream",
     "text": [
      "EPOCH =  1 \t|\tCOST =  347179.6676938232\n",
      "EPOCH =  2 \t|\tCOST =  3.2254373617966974\n",
      "EPOCH =  3 \t|\tCOST =  3.096385211547218\n",
      "EPOCH =  4 \t|\tCOST =  3.059713779290516\n",
      "EPOCH =  5 \t|\tCOST =  3.146386605898537\n",
      "TEST ACCURACY: 0.1\n"
     ]
    }
   ],
   "source": [
    "init_op = tf.global_variables_initializer()\n",
    "\n",
    "with tf.Session() as sess:\n",
    "    sess.run(init_op)\n",
    "    \n",
    "    total_batch = int(len(train_labels) / BATCH_SIZE)\n",
    "    \n",
    "    for epoch in range(EPOCHS):\n",
    "        avg_cost = 0\n",
    "        for i in range(total_batch):\n",
    "            batch_X = train_images[i*BATCH_SIZE: (i+1)*BATCH_SIZE]\n",
    "            batch_y = train_labels_oh[i*BATCH_SIZE: (i+1)*BATCH_SIZE]\n",
    "            \n",
    "            _, c = sess.run([optimizer, cross_entropy_loss],\n",
    "                           feed_dict={X: batch_X, y: batch_y})\n",
    "            \n",
    "            avg_cost += (c / total_batch)\n",
    "        \n",
    "        print('EPOCH = ', epoch+1, '\\t|\\tCOST = ', avg_cost)\n",
    "    \n",
    "    print('TEST ACCURACY:',\n",
    "          sess.run(accuracy,\n",
    "                  feed_dict={X: test_images, y: test_labels_oh}))"
   ]
  },
  {
   "cell_type": "code",
   "execution_count": null,
   "metadata": {},
   "outputs": [],
   "source": []
  }
 ],
 "metadata": {
  "kernelspec": {
   "display_name": "Python 3",
   "language": "python",
   "name": "python3"
  },
  "language_info": {
   "codemirror_mode": {
    "name": "ipython",
    "version": 3
   },
   "file_extension": ".py",
   "mimetype": "text/x-python",
   "name": "python",
   "nbconvert_exporter": "python",
   "pygments_lexer": "ipython3",
   "version": "3.6.4"
  }
 },
 "nbformat": 4,
 "nbformat_minor": 2
}
