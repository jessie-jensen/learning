{
 "cells": [
  {
   "cell_type": "markdown",
   "metadata": {},
   "source": [
    "### load data + inspect"
   ]
  },
  {
   "cell_type": "code",
   "execution_count": 9,
   "metadata": {},
   "outputs": [],
   "source": [
    "import matplotlib.pyplot as plt"
   ]
  },
  {
   "cell_type": "code",
   "execution_count": 3,
   "metadata": {},
   "outputs": [
    {
     "name": "stdout",
     "output_type": "stream",
     "text": [
      "Extracting /tmp/data/train-images-idx3-ubyte.gz\n",
      "Extracting /tmp/data/train-labels-idx1-ubyte.gz\n",
      "Extracting /tmp/data/t10k-images-idx3-ubyte.gz\n",
      "Extracting /tmp/data/t10k-labels-idx1-ubyte.gz\n"
     ]
    }
   ],
   "source": [
    "import tensorflow as tf\n",
    "from tensorflow.examples.tutorials.mnist import input_data\n",
    "\n",
    "mnist = input_data.read_data_sets('/tmp/data', one_hot=True)"
   ]
  },
  {
   "cell_type": "code",
   "execution_count": 4,
   "metadata": {},
   "outputs": [
    {
     "data": {
      "text/plain": [
       "(55000, 784)"
      ]
     },
     "execution_count": 4,
     "metadata": {},
     "output_type": "execute_result"
    }
   ],
   "source": [
    "mnist.train.images.shape"
   ]
  },
  {
   "cell_type": "code",
   "execution_count": 5,
   "metadata": {},
   "outputs": [
    {
     "data": {
      "text/plain": [
       "(55000, 10)"
      ]
     },
     "execution_count": 5,
     "metadata": {},
     "output_type": "execute_result"
    }
   ],
   "source": [
    "mnist.train.labels.shape"
   ]
  },
  {
   "cell_type": "code",
   "execution_count": 6,
   "metadata": {},
   "outputs": [
    {
     "data": {
      "text/plain": [
       "(10000, 784)"
      ]
     },
     "execution_count": 6,
     "metadata": {},
     "output_type": "execute_result"
    }
   ],
   "source": [
    "mnist.test.images.shape"
   ]
  },
  {
   "cell_type": "code",
   "execution_count": 7,
   "metadata": {},
   "outputs": [
    {
     "data": {
      "text/plain": [
       "array([[0., 0., 0., ..., 0., 0., 0.],\n",
       "       [0., 0., 0., ..., 0., 0., 0.],\n",
       "       [0., 0., 0., ..., 0., 0., 0.],\n",
       "       ...,\n",
       "       [0., 0., 0., ..., 0., 0., 0.],\n",
       "       [0., 0., 0., ..., 0., 0., 0.],\n",
       "       [0., 0., 0., ..., 0., 0., 0.]], dtype=float32)"
      ]
     },
     "execution_count": 7,
     "metadata": {},
     "output_type": "execute_result"
    }
   ],
   "source": [
    "mnist.train.images"
   ]
  },
  {
   "cell_type": "code",
   "execution_count": 15,
   "metadata": {},
   "outputs": [
    {
     "data": {
      "text/plain": [
       "<matplotlib.image.AxesImage at 0x1c3d9eb0b8>"
      ]
     },
     "execution_count": 15,
     "metadata": {},
     "output_type": "execute_result"
    },
    {
     "data": {
      "image/png": "[encoded data removed]",
      "text/plain": [
       "<matplotlib.figure.Figure at 0x1c3d93f4a8>"
      ]
     },
     "metadata": {},
     "output_type": "display_data"
    }
   ],
   "source": [
    "plt.imshow(mnist.train.images[0].reshape(28,28), cmap='Greys')"
   ]
  },
  {
   "cell_type": "markdown",
   "metadata": {},
   "source": [
    "### params"
   ]
  },
  {
   "cell_type": "code",
   "execution_count": 18,
   "metadata": {},
   "outputs": [],
   "source": [
    "LEARN_RATE = 0.1\n",
    "EPOCHS = 10\n",
    "BATCH_SIZE = 100\n",
    "\n",
    "pixel_shape = mnist.train.images.shape[1]\n",
    "output_shape = mnist.train.labels.shape[1]"
   ]
  },
  {
   "cell_type": "markdown",
   "metadata": {},
   "source": [
    "### tensor calcs"
   ]
  },
  {
   "cell_type": "code",
   "execution_count": 20,
   "metadata": {},
   "outputs": [],
   "source": [
    "x = tf.placeholder(tf.float32, [None, pixel_shape])\n",
    "y = tf.placeholder(tf.float32, [None, output_shape])\n",
    "\n",
    "# hidden layer weights & biases\n",
    "w_xh = tf.Variable(tf.random_normal([pixel_shape, 300], stddev=.03), name='w_xh')\n",
    "b_h = tf.Variable(tf.random_normal([300]), name='b_h')\n",
    "\n",
    "# output layer weights & biases\n",
    "w_yh = tf.Variable(tf.random_normal([300, output_shape], stddev=.03), name='w_yh')\n",
    "b_y = tf.Variable(tf.random_normal([output_shape]), name='b_y')\n",
    "\n",
    "# forward prop\n",
    "z1 = tf.add(tf.matmul(x, w_xh), b_h)\n",
    "a1 = tf.nn.relu(z1)\n",
    "z2 = tf.add(tf.matmul(a1, w_yh), b_y)\n",
    "yhat = tf.nn.softmax(z2)\n",
    "\n",
    "# cost function\n",
    "cross_entropy_loss = tf.reduce_mean(-tf.reduce_sum(y * tf.log(yhat), reduction_indices=[1]))\n",
    "\n",
    "# optimizer\n",
    "optimizer = tf.train.GradientDescentOptimizer(learning_rate=LEARN_RATE)\\\n",
    "        .minimize(cross_entropy_loss)\n",
    "\n",
    "# eval\n",
    "correct_pred = tf.equal(tf.argmax(y, 1), tf.argmax(yhat, 1))\n",
    "accuracy = tf.reduce_mean(tf.cast(correct_pred, tf.float32))"
   ]
  },
  {
   "cell_type": "code",
   "execution_count": 21,
   "metadata": {},
   "outputs": [
    {
     "name": "stdout",
     "output_type": "stream",
     "text": [
      "EPOCH =  1 \t|\tCOST =  0.5371539531512696\n",
      "EPOCH =  2 \t|\tCOST =  0.28608961950648887\n",
      "EPOCH =  3 \t|\tCOST =  0.23113566637039182\n",
      "EPOCH =  4 \t|\tCOST =  0.19076744271950272\n",
      "EPOCH =  5 \t|\tCOST =  0.16191338936036284\n",
      "EPOCH =  6 \t|\tCOST =  0.14037737362764105\n",
      "EPOCH =  7 \t|\tCOST =  0.12397151117975054\n",
      "EPOCH =  8 \t|\tCOST =  0.11063828297975398\n",
      "EPOCH =  9 \t|\tCOST =  0.09980362334711983\n",
      "EPOCH =  10 \t|\tCOST =  0.0909587686237964\n",
      "TEST ACCURACY =  0.9694\n"
     ]
    }
   ],
   "source": [
    "# run session\n",
    "\n",
    "init_op = tf.global_variables_initializer()\n",
    "\n",
    "with tf.Session() as sess:\n",
    "    sess.run(init_op)\n",
    "    total_batch = int(len(mnist.train.labels) / BATCH_SIZE)\n",
    "    \n",
    "    for epoch in range(EPOCHS):\n",
    "        avg_cost = 0\n",
    "        for i in range(total_batch):\n",
    "            batch_x, batch_y = mnist.train.next_batch(batch_size=BATCH_SIZE)\n",
    "            _, c = sess.run([optimizer, cross_entropy_loss],\n",
    "                            feed_dict={x: batch_x, y: batch_y})\n",
    "            avg_cost += (c / total_batch)\n",
    "            \n",
    "        print('EPOCH = ', epoch+1, '\\t|\\tCOST = ', avg_cost)\n",
    "        \n",
    "    print('TEST ACCURACY = ', sess.run(accuracy,\n",
    "                                      feed_dict={x: mnist.test.images, y: mnist.test.labels}))"
   ]
  },
  {
   "cell_type": "code",
   "execution_count": null,
   "metadata": {},
   "outputs": [],
   "source": []
  }
 ],
 "metadata": {
  "kernelspec": {
   "display_name": "Python 3",
   "language": "python",
   "name": "python3"
  },
  "language_info": {
   "codemirror_mode": {
    "name": "ipython",
    "version": 3
   },
   "file_extension": ".py",
   "mimetype": "text/x-python",
   "name": "python",
   "nbconvert_exporter": "python",
   "pygments_lexer": "ipython3",
   "version": "3.6.4"
  }
 },
 "nbformat": 4,
 "nbformat_minor": 2
}
