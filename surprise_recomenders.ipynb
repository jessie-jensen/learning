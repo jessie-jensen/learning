{
 "cells": [
  {
   "cell_type": "markdown",
   "metadata": {},
   "source": [
    "## Testing from SurPRiSE git readme\n",
    "https://github.com/NicolasHug/Surprise"
   ]
  },
  {
   "cell_type": "code",
   "execution_count": 8,
   "metadata": {
    "collapsed": false
   },
   "outputs": [
    {
     "name": "stdout",
     "output_type": "stream",
     "text": [
      "Evaluating RMSE, MAE of algorithm SVD on 5 split(s).\n",
      "\n",
      "                  Fold 1  Fold 2  Fold 3  Fold 4  Fold 5  Mean    Std     \n",
      "MAE (testset)     0.7326  0.7460  0.7379  0.7374  0.7375  0.7383  0.0043  \n",
      "RMSE (testset)    0.9302  0.9442  0.9363  0.9363  0.9365  0.9367  0.0045  \n",
      "Fit time          10.63   11.99   12.30   11.51   8.56    11.00   1.34    \n",
      "Test time         0.59    0.43    0.40    0.30    0.23    0.39    0.12    \n"
     ]
    },
    {
     "data": {
      "text/plain": [
       "{u'fit_time': (10.632404804229736,\n",
       "  11.993491888046265,\n",
       "  12.302451133728027,\n",
       "  11.514539957046509,\n",
       "  8.562066078186035),\n",
       " u'test_mae': array([0.73264967, 0.746027  , 0.73786651, 0.73737192, 0.73751505]),\n",
       " u'test_rmse': array([0.93022597, 0.94424957, 0.93634753, 0.93625192, 0.93645585]),\n",
       " u'test_time': (0.5883610248565674,\n",
       "  0.4276127815246582,\n",
       "  0.4021029472351074,\n",
       "  0.3030710220336914,\n",
       "  0.22977685928344727)}"
      ]
     },
     "execution_count": 8,
     "metadata": {},
     "output_type": "execute_result"
    }
   ],
   "source": [
    "from surprise import SVD\n",
    "from surprise import Dataset\n",
    "from surprise.model_selection import cross_validate\n",
    "\n",
    "# load movielens dataset\n",
    "movielens = Dataset.load_builtin('ml-100k')\n",
    "\n",
    "# run\n",
    "cross_validate(SVD(), movielens, measures=['RMSE','MAE'], cv=5, verbose=True)"
   ]
  },
  {
   "cell_type": "markdown",
   "metadata": {},
   "source": [
    "## TODO: Following along with \"Exploring Recommendation Systems\" by Shioulin\n",
    "http://blog.fastforwardlabs.com/2018/01/22/exploring-recommendation-systems.html?utm_campaign=Data%2BElixir&utm_medium=email&utm_source=Data_Elixir_166\n",
    "\n",
    "need to track down the data sources..."
   ]
  },
  {
   "cell_type": "code",
   "execution_count": 1,
   "metadata": {
    "collapsed": false
   },
   "outputs": [],
   "source": [
    "import surprise"
   ]
  }
 ],
 "metadata": {
  "kernelspec": {
   "display_name": "Python 2",
   "language": "python",
   "name": "python2"
  },
  "language_info": {
   "codemirror_mode": {
    "name": "ipython",
    "version": 2
   },
   "file_extension": ".py",
   "mimetype": "text/x-python",
   "name": "python",
   "nbconvert_exporter": "python",
   "pygments_lexer": "ipython2",
   "version": "2.7.13"
  }
 },
 "nbformat": 4,
 "nbformat_minor": 2
}
