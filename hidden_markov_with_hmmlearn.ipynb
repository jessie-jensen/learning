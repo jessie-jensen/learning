{
 "cells": [
  {
   "cell_type": "markdown",
   "metadata": {},
   "source": [
    "## HMM with hmmlearn\n",
    "https://hmmlearn.readthedocs.io/en/latest/tutorial.html"
   ]
  },
  {
   "cell_type": "code",
   "execution_count": 1,
   "metadata": {},
   "outputs": [],
   "source": [
    "import numpy as np\n",
    "from hmmlearn import hmm\n",
    "\n",
    "np.random.seed(42)"
   ]
  },
  {
   "cell_type": "markdown",
   "metadata": {},
   "source": [
    "##### generate samples, given intial probs, transistion matrix, mean, & covarience"
   ]
  },
  {
   "cell_type": "code",
   "execution_count": 2,
   "metadata": {},
   "outputs": [
    {
     "data": {
      "text/plain": [
       "array([[-1.11188012e+00,  3.18902185e-01],\n",
       "       [ 1.57921282e+00,  7.67434729e-01],\n",
       "       [-5.80878134e-01, -5.25169807e-01],\n",
       "       [ 2.41962272e-01, -1.91328024e+00],\n",
       "       [ 8.16445081e-01, -1.52387600e+00],\n",
       "       [-9.08024076e-01, -1.41230370e+00],\n",
       "       [-6.29474961e-01,  5.97720467e-01],\n",
       "       [-5.44382725e-01,  1.10922590e-01],\n",
       "       [-6.00253850e-01,  9.47439821e-01],\n",
       "       [-6.01706612e-01,  1.85227818e+00],\n",
       "       [-5.33648804e-01, -5.52786232e-03],\n",
       "       [ 5.82254491e+00,  8.77915635e+00],\n",
       "       [ 5.77831304e+00, -1.80636028e+00],\n",
       "       [ 7.38466580e-01,  1.71368281e-01],\n",
       "       [-1.00908534e+00, -1.58329421e+00],\n",
       "       [-4.60638771e-01,  1.05712223e+00],\n",
       "       [-1.13055230e+00,  1.34428883e-01],\n",
       "       [ 2.32307800e+00, -2.38832371e+00],\n",
       "       [ 5.82122795e-01,  8.87748460e-01],\n",
       "       [ 2.16078248e+00, -3.30921238e+00],\n",
       "       [ 3.49184671e+00,  1.10996470e+01],\n",
       "       [-1.10633497e+00, -1.19620662e+00],\n",
       "       [ 3.83479542e+00, -2.70343862e+00],\n",
       "       [ 3.36163603e+00, -3.64511975e+00],\n",
       "       [ 4.49543425e+00, -2.66181875e+00],\n",
       "       [ 3.80254896e-01, -2.17809750e+00],\n",
       "       [-1.41875046e+00,  1.04249162e+00],\n",
       "       [-2.19671888e-01,  3.57112572e-01],\n",
       "       [-7.89258329e-01,  7.43711284e-01],\n",
       "       [-8.08493603e-01, -5.01757044e-01],\n",
       "       [ 5.50144833e+00,  1.11581867e+01],\n",
       "       [ 4.47023980e+00,  1.05132674e+01],\n",
       "       [ 6.37186213e+00,  1.01755533e+01],\n",
       "       [ 4.29794691e+00,  9.67233785e+00],\n",
       "       [ 1.27373362e+00, -2.91952671e-01],\n",
       "       [ 3.00511346e+00, -3.23458713e+00],\n",
       "       [ 2.60448355e+00, -3.28913686e+00],\n",
       "       [ 2.83871429e+00, -2.59594914e+00],\n",
       "       [ 2.05694319e+00, -1.59604126e+00],\n",
       "       [ 3.08122878e+00,  9.97348612e+00],\n",
       "       [ 1.02347683e-01, -4.32609281e-01],\n",
       "       [-1.92360965e-01,  3.01547342e-01],\n",
       "       [ 3.39820964e-01, -7.38014994e-03],\n",
       "       [ 1.14282281e+00,  7.51933033e-01],\n",
       "       [-8.01827843e-01,  1.38401572e+00],\n",
       "       [ 5.86857094e-01,  2.19045563e+00],\n",
       "       [-4.93432482e-01,  9.23162608e-01],\n",
       "       [ 9.96513651e-02, -5.03475654e-01],\n",
       "       [ 9.14434574e-03, -3.65539297e-01],\n",
       "       [-1.06230371e+00,  4.73592431e-01],\n",
       "       [ 6.20548216e-01, -1.60937377e-01],\n",
       "       [-7.83253292e-01, -3.22061516e-01],\n",
       "       [ 4.64325497e+00,  1.05561218e+01],\n",
       "       [ 5.22745993e+00,  1.13071428e+01],\n",
       "       [ 2.67550904e+00, -3.20586672e+00],\n",
       "       [ 5.25988279e+00,  1.07818229e+01],\n",
       "       [ 4.29939681e+00, -3.86714616e+00],\n",
       "       [ 5.25049285e+00,  1.03464482e+01],\n",
       "       [ 5.22628827e+00,  1.08474014e+01],\n",
       "       [ 2.93072473e-01, -7.14351418e-01],\n",
       "       [ 1.74833012e-01, -1.21685489e+00],\n",
       "       [-1.19130350e+00,  6.56553609e-01],\n",
       "       [ 2.24882058e+00, -4.13042805e+00],\n",
       "       [ 3.96337613e+00, -2.58721907e+00],\n",
       "       [ 2.13235891e+00, -2.85413815e+00],\n",
       "       [ 2.11048557e+00, -3.81581028e+00],\n",
       "       [ 5.87867355e+00,  9.76040549e+00],\n",
       "       [ 5.01300189e+00,  1.14535341e+01],\n",
       "       [ 1.59359473e+00, -3.03452966e+00],\n",
       "       [ 1.92910750e+00, -2.51752758e+00],\n",
       "       [ 4.87586761e+00,  1.07403408e+01],\n",
       "       [ 4.15320628e+00,  8.48515278e+00],\n",
       "       [ 4.07395338e+00,  9.48703468e+00],\n",
       "       [ 3.17318093e+00, -2.61468262e+00],\n",
       "       [ 3.23095372e+00, -3.80893689e+00],\n",
       "       [ 5.05820872e+00,  8.85702970e+00],\n",
       "       [ 5.87244716e+00,  1.10661985e+01],\n",
       "       [ 3.62233063e+00,  9.06217496e+00],\n",
       "       [ 5.30444912e+00,  1.02572075e+01],\n",
       "       [ 5.51504769e+00,  1.38527315e+01],\n",
       "       [ 6.33088133e+00,  1.09882026e+01],\n",
       "       [ 4.68473076e+00,  1.07589692e+01],\n",
       "       [ 3.16502280e+00, -3.85592892e+00],\n",
       "       [ 2.31465857e+00, -1.86726519e+00],\n",
       "       [-4.14531805e-01,  8.01987125e-02],\n",
       "       [-4.71931866e-01,  1.08895060e+00],\n",
       "       [ 1.56038014e+00,  1.28551000e-01],\n",
       "       [-7.30366632e-01,  2.16458590e-01],\n",
       "       [ 2.38903596e+00,  1.84341376e+00],\n",
       "       [-2.02514259e+00,  1.86454315e-01],\n",
       "       [ 2.55550126e+00, -4.66913236e+00],\n",
       "       [ 5.04987279e-01,  8.65755194e-01],\n",
       "       [-3.34247091e-01, -3.17846907e-01],\n",
       "       [ 1.76545424e+00,  4.04981711e-01],\n",
       "       [ 3.77296265e-01,  1.65135099e+00],\n",
       "       [-1.51936997e+00, -4.84234073e-01],\n",
       "       [-2.37391961e-01,  1.87200568e+00],\n",
       "       [-3.24126734e+00, -1.02438764e+00],\n",
       "       [-1.99496157e+00, -1.30019284e+00],\n",
       "       [-4.40044487e-01,  1.30740577e-01]])"
      ]
     },
     "execution_count": 2,
     "metadata": {},
     "output_type": "execute_result"
    }
   ],
   "source": [
    "model = hmm.GaussianHMM(n_components=3, covariance_type='full')\n",
    "\n",
    "model.startprob_ = np.array([0.6, 0.3, 0.1])\n",
    "model.transmat_ = np.array([[0.7, 0.2, 0.1],\n",
    "                            [0.3, 0.5, 0.2],\n",
    "                            [0.3, 0.3, 0.4]])\n",
    "model.means_ = np.array([[0.0, 0.0], [3.0, -3.0], [5.0, 10.0]])\n",
    "model.covars_ = np.tile(np.identity(2), (3, 1, 1))\n",
    "X, Z = model.sample(100)\n",
    "X"
   ]
  },
  {
   "cell_type": "code",
   "execution_count": 3,
   "metadata": {},
   "outputs": [
    {
     "data": {
      "text/plain": [
       "array([0, 0, 0, 0, 0, 0, 0, 0, 0, 0, 0, 2, 1, 0, 0, 0, 0, 1, 0, 1, 2, 0,\n",
       "       1, 1, 1, 1, 0, 0, 0, 0, 2, 2, 2, 2, 0, 1, 1, 1, 1, 2, 0, 0, 0, 0,\n",
       "       0, 0, 0, 0, 0, 0, 0, 0, 2, 2, 1, 2, 1, 2, 2, 0, 0, 0, 1, 1, 1, 1,\n",
       "       2, 2, 1, 1, 2, 2, 2, 1, 1, 2, 2, 2, 2, 2, 2, 2, 1, 0, 0, 0, 0, 0,\n",
       "       0, 0, 1, 0, 0, 0, 0, 0, 0, 0, 0, 0])"
      ]
     },
     "execution_count": 3,
     "metadata": {},
     "output_type": "execute_result"
    }
   ],
   "source": [
    "Z"
   ]
  },
  {
   "cell_type": "markdown",
   "metadata": {},
   "source": [
    "##### training hmm params & inferring hidden states\n",
    "\n",
    "Note, since the EM algorithm is a gradient-based optimization method, it will generally get stuck in local optima. You should in general try to run fit with various initializations and select the highest scored model"
   ]
  },
  {
   "cell_type": "code",
   "execution_count": 4,
   "metadata": {},
   "outputs": [
    {
     "data": {
      "text/plain": [
       "GaussianHMM(algorithm='viterbi', covariance_type='full', covars_prior=0.01,\n",
       "      covars_weight=1, init_params='stmc', means_prior=0, means_weight=0,\n",
       "      min_covar=0.001, n_components=3, n_iter=100, params='stmc',\n",
       "      random_state=None, startprob_prior=1.0, tol=0.01, transmat_prior=1.0,\n",
       "      verbose=False)"
      ]
     },
     "execution_count": 4,
     "metadata": {},
     "output_type": "execute_result"
    }
   ],
   "source": [
    "remodel = hmm.GaussianHMM(n_components=3, covariance_type='full', n_iter=100)\n",
    "remodel.fit(X)"
   ]
  },
  {
   "cell_type": "code",
   "execution_count": 5,
   "metadata": {},
   "outputs": [
    {
     "data": {
      "text/plain": [
       "array([0, 0, 0, 0, 0, 0, 0, 0, 0, 0, 0, 1, 2, 0, 0, 0, 0, 2, 0, 2, 1, 0,\n",
       "       2, 2, 2, 0, 0, 0, 0, 0, 1, 1, 1, 1, 0, 2, 2, 2, 2, 1, 0, 0, 0, 0,\n",
       "       0, 0, 0, 0, 0, 0, 0, 0, 1, 1, 2, 1, 2, 1, 1, 0, 0, 0, 2, 2, 2, 2,\n",
       "       1, 1, 2, 2, 1, 1, 1, 2, 2, 1, 1, 1, 1, 1, 1, 1, 2, 2, 0, 0, 0, 0,\n",
       "       0, 0, 2, 0, 0, 0, 0, 0, 0, 0, 0, 0])"
      ]
     },
     "execution_count": 5,
     "metadata": {},
     "output_type": "execute_result"
    }
   ],
   "source": [
    "remodel.predict(X)"
   ]
  },
  {
   "cell_type": "code",
   "execution_count": 6,
   "metadata": {},
   "outputs": [
    {
     "data": {
      "text/plain": [
       "ConvergenceMonitor(history=[-349.6448670351954, -349.6412552932653], iter=10,\n",
       "          n_iter=100, tol=0.01, verbose=False)"
      ]
     },
     "execution_count": 6,
     "metadata": {},
     "output_type": "execute_result"
    }
   ],
   "source": [
    "remodel.monitor_"
   ]
  },
  {
   "cell_type": "code",
   "execution_count": 7,
   "metadata": {},
   "outputs": [
    {
     "data": {
      "text/plain": [
       "True"
      ]
     },
     "execution_count": 7,
     "metadata": {},
     "output_type": "execute_result"
    }
   ],
   "source": [
    "remodel.monitor_.converged"
   ]
  },
  {
   "cell_type": "markdown",
   "metadata": {},
   "source": [
    "##### working with multiple sequences"
   ]
  },
  {
   "cell_type": "code",
   "execution_count": 8,
   "metadata": {},
   "outputs": [],
   "source": [
    "X1 = [[0.5], [1.0], [-1.0], [0.42], [0.24]]\n",
    "X2 = [[2.4], [4.2], [0.5], [-0.24]]\n",
    "\n",
    "X = np.concatenate([X1, X2])\n",
    "lengths = [len(X1), len(X2)]"
   ]
  },
  {
   "cell_type": "code",
   "execution_count": 9,
   "metadata": {},
   "outputs": [
    {
     "data": {
      "text/plain": [
       "GaussianHMM(algorithm='viterbi', covariance_type='diag', covars_prior=0.01,\n",
       "      covars_weight=1, init_params='stmc', means_prior=0, means_weight=0,\n",
       "      min_covar=0.001, n_components=3, n_iter=10, params='stmc',\n",
       "      random_state=None, startprob_prior=1.0, tol=0.01, transmat_prior=1.0,\n",
       "      verbose=False)"
      ]
     },
     "execution_count": 9,
     "metadata": {},
     "output_type": "execute_result"
    }
   ],
   "source": [
    "multi_hmm = hmm.GaussianHMM(n_components=3)\n",
    "multi_hmm.fit(X, lengths)"
   ]
  },
  {
   "cell_type": "code",
   "execution_count": null,
   "metadata": {},
   "outputs": [],
   "source": []
  }
 ],
 "metadata": {
  "kernelspec": {
   "display_name": "Python 3",
   "language": "python",
   "name": "python3"
  },
  "language_info": {
   "codemirror_mode": {
    "name": "ipython",
    "version": 3
   },
   "file_extension": ".py",
   "mimetype": "text/x-python",
   "name": "python",
   "nbconvert_exporter": "python",
   "pygments_lexer": "ipython3",
   "version": "3.6.4"
  }
 },
 "nbformat": 4,
 "nbformat_minor": 2
}
