{
 "cells": [
  {
   "cell_type": "markdown",
   "metadata": {},
   "source": [
    "# svm scikit-learn tutorial - clickbait headline classifier\n",
    "https://www.codementor.io/garethdwyer/introduction-to-machine-learning-with-python-s-scikit-learn-czha398p1\n",
    "\n",
    "i spiced it up with trying on live buzzfeed articles"
   ]
  },
  {
   "cell_type": "code",
   "execution_count": 1,
   "metadata": {
    "collapsed": true
   },
   "outputs": [],
   "source": [
    "# imports & params\n",
    "from sklearn.feature_extraction.text import TfidfVectorizer\n",
    "from sklearn.svm import LinearSVC\n",
    "from sklearn.metrics import accuracy_score\n",
    "import numpy as np\n",
    "\n",
    "split_ratio = .8"
   ]
  },
  {
   "cell_type": "code",
   "execution_count": 2,
   "metadata": {
    "collapsed": false
   },
   "outputs": [
    {
     "name": "stdout",
     "output_type": "stream",
     "text": [
      "10000\n",
      "10000\n"
     ]
    },
    {
     "data": {
      "text/plain": [
       "(\"Egypt's top envoy in Iraq confirmed killed\",\n",
       " 'Carter: Race relations in Palestine are worse than apartheid',\n",
       " 'After Years Of Dutiful Service, The Shiba Who Ran A Tobacco Shop Retires',\n",
       " 'In Books on Two Powerbrokers, Hints of the Future',\n",
       " 'These Horrifyingly Satisfying Photos Of \"Baby Foot\" Will Haunt You')"
      ]
     },
     "execution_count": 2,
     "metadata": {},
     "output_type": "execute_result"
    }
   ],
   "source": [
    "# read data\n",
    "with open('clickbait.txt') as f:\n",
    "    lines = f.read().strip().split('\\n')\n",
    "    lines = [line.split('\\t') for line in lines]\n",
    "    \n",
    "headlines, labels = zip(*lines)\n",
    "\n",
    "print len(headlines)\n",
    "print len(labels)\n",
    "headlines[:5]"
   ]
  },
  {
   "cell_type": "code",
   "execution_count": 3,
   "metadata": {
    "collapsed": false
   },
   "outputs": [
    {
     "data": {
      "text/plain": [
       "('0', '0', '1', '0', '1')"
      ]
     },
     "execution_count": 3,
     "metadata": {},
     "output_type": "execute_result"
    }
   ],
   "source": [
    "labels[:5]"
   ]
  },
  {
   "cell_type": "code",
   "execution_count": 4,
   "metadata": {
    "collapsed": false
   },
   "outputs": [
    {
     "name": "stdout",
     "output_type": "stream",
     "text": [
      "train lengths: \t8082 8082\n",
      "test lengths: \t1918 1918\n"
     ]
    }
   ],
   "source": [
    "# split to train & test\n",
    "headlines_a = np.array(headlines)\n",
    "labels_a = np.array(labels)\n",
    "random_split = (np.random.rand(len(headlines)) < split_ratio)\n",
    "\n",
    "train_headlines = headlines_a[random_split]\n",
    "test_headlines = headlines_a[~random_split]\n",
    "\n",
    "train_labels = labels_a[random_split]\n",
    "test_labels = labels_a[~random_split]\n",
    "\n",
    "print 'train lengths: \\t', len(train_headlines), len(train_labels)\n",
    "print 'test lengths: \\t', len(test_headlines), len(test_labels)"
   ]
  },
  {
   "cell_type": "code",
   "execution_count": 5,
   "metadata": {
    "collapsed": true
   },
   "outputs": [],
   "source": [
    "# initialize vectorizer & classifier\n",
    "vectorizer = TfidfVectorizer()\n",
    "svm = LinearSVC()"
   ]
  },
  {
   "cell_type": "code",
   "execution_count": 6,
   "metadata": {
    "collapsed": false
   },
   "outputs": [
    {
     "data": {
      "text/plain": [
       "matrix([[ 0.,  0.,  0., ...,  0.,  0.,  0.],\n",
       "        [ 0.,  0.,  0., ...,  0.,  0.,  0.],\n",
       "        [ 0.,  0.,  0., ...,  0.,  0.,  0.],\n",
       "        [ 0.,  0.,  0., ...,  0.,  0.,  0.],\n",
       "        [ 0.,  0.,  0., ...,  0.,  0.,  0.]])"
      ]
     },
     "execution_count": 6,
     "metadata": {},
     "output_type": "execute_result"
    }
   ],
   "source": [
    "# transform text to vectors\n",
    "train_vectors = vectorizer.fit_transform(train_headlines)\n",
    "test_vectors = vectorizer.transform(test_headlines)\n",
    "\n",
    "train_vectors.todense()[:5]"
   ]
  },
  {
   "cell_type": "code",
   "execution_count": 7,
   "metadata": {
    "collapsed": false
   },
   "outputs": [
    {
     "data": {
      "text/plain": [
       "LinearSVC(C=1.0, class_weight=None, dual=True, fit_intercept=True,\n",
       "     intercept_scaling=1, loss='squared_hinge', max_iter=1000,\n",
       "     multi_class='ovr', penalty='l2', random_state=None, tol=0.0001,\n",
       "     verbose=0)"
      ]
     },
     "execution_count": 7,
     "metadata": {},
     "output_type": "execute_result"
    }
   ],
   "source": [
    "# train classifier\n",
    "svm.fit(train_vectors, train_labels)"
   ]
  },
  {
   "cell_type": "code",
   "execution_count": 8,
   "metadata": {
    "collapsed": false
   },
   "outputs": [
    {
     "data": {
      "text/plain": [
       "array(['0', '1', '0', '0', '0'],\n",
       "      dtype='|S1')"
      ]
     },
     "execution_count": 8,
     "metadata": {},
     "output_type": "execute_result"
    }
   ],
   "source": [
    "# predict on test\n",
    "predictions = svm.predict(test_vectors)\n",
    "\n",
    "predictions[:5]"
   ]
  },
  {
   "cell_type": "code",
   "execution_count": 9,
   "metadata": {
    "collapsed": false
   },
   "outputs": [
    {
     "name": "stdout",
     "output_type": "stream",
     "text": [
      "['0' '1' '0' '1' '0']\n"
     ]
    },
    {
     "data": {
      "text/plain": [
       "array(['In Books on Two Powerbrokers, Hints of the Future',\n",
       "       'Try And Guess What Chips These Were Before We Smashed Them',\n",
       "       'Johnson & Johnson to Acquire Cougar Biotechnology',\n",
       "       'Shaggy Returns With The Ultimate Diss Track, \"GFY\"',\n",
       "       'Warsaw court requests testimony from Thatcher and Gorbachev'],\n",
       "      dtype='|S127')"
      ]
     },
     "execution_count": 9,
     "metadata": {},
     "output_type": "execute_result"
    }
   ],
   "source": [
    "# peak at test headlines...\n",
    "print test_labels[:5]\n",
    "test_headlines[:5]"
   ]
  },
  {
   "cell_type": "code",
   "execution_count": 10,
   "metadata": {
    "collapsed": false
   },
   "outputs": [
    {
     "data": {
      "text/plain": [
       "0.96402502606882168"
      ]
     },
     "execution_count": 10,
     "metadata": {},
     "output_type": "execute_result"
    }
   ],
   "source": [
    "accuracy_score(test_labels, predictions)"
   ]
  },
  {
   "cell_type": "markdown",
   "metadata": {},
   "source": [
    "### live buzzfeed articles"
   ]
  },
  {
   "cell_type": "code",
   "execution_count": 11,
   "metadata": {
    "collapsed": false
   },
   "outputs": [
    {
     "data": {
      "text/plain": [
       "[u'status', u'articles']"
      ]
     },
     "execution_count": 11,
     "metadata": {},
     "output_type": "execute_result"
    }
   ],
   "source": [
    "# now try on live buzzfeed articles\n",
    "import requests\n",
    "import json\n",
    "import pandas as pd\n",
    "\n",
    "with open('news_api_key.txt') as f:\n",
    "    news_api_key = f.read()\n",
    "\n",
    "url = ('https://newsapi.org/v2/top-headlines?'\\\n",
    "       'sources=buzzfeed&'\\\n",
    "       'apiKey=' + news_api_key)\n",
    "\n",
    "j = requests.get(url).json()\n",
    "j.keys()"
   ]
  },
  {
   "cell_type": "code",
   "execution_count": 12,
   "metadata": {
    "collapsed": false
   },
   "outputs": [
    {
     "data": {
      "text/plain": [
       "[u\"Rate These Fast Food Chains And We'll Reveal Your Dominant Personality Trait\",\n",
       " u'How Normal Are Your Thanksgiving Food Opinions?',\n",
       " u'34 Absolutely Stunning Winter Coats Under $100',\n",
       " u'This Guy Kept Prank-Calling Phone Scammers Until They Begged Him To Stop',\n",
       " u'16 Simple Ways To Deal With The Cold, Dark Winter Without Losing Your Damn Mind',\n",
       " u'Call An Ambulance Because These Photos Of Serena Williams At Her Wedding Nearly Killed Me',\n",
       " u\"Build A Thanksgiving Dinner And We'll Reveal If You've Been Naughty Or Nice This Year\",\n",
       " u'Cops Pulled Over This Driver And Found A Phone And A Tablet Mounted On His Steering Wheel',\n",
       " u'Can We Guess Your Age Based On Your Favorite Candy?',\n",
       " u\"17 Thanksgiving Horror Stories That'll Make Even Your Turkey Get Up From The Table\"]"
      ]
     },
     "execution_count": 12,
     "metadata": {},
     "output_type": "execute_result"
    }
   ],
   "source": [
    "# read into dataframe, but we only need a list of the titles at the moment\n",
    "df = pd.read_json(json.dumps(j['articles']))\n",
    "live_headlines = list(df.title)\n",
    "live_headlines"
   ]
  },
  {
   "cell_type": "code",
   "execution_count": 13,
   "metadata": {
    "collapsed": false
   },
   "outputs": [
    {
     "data": {
      "text/plain": [
       "array(['1', '1', '1', '1', '1', '1', '1', '1', '1', '1'],\n",
       "      dtype='|S1')"
      ]
     },
     "execution_count": 13,
     "metadata": {},
     "output_type": "execute_result"
    }
   ],
   "source": [
    "# predict\n",
    "live_vectors = vectorizer.transform(live_headlines)\n",
    "live_predictions = svm.predict(live_vectors)\n",
    "live_predictions"
   ]
  }
 ],
 "metadata": {
  "kernelspec": {
   "display_name": "Python 2",
   "language": "python",
   "name": "python2"
  },
  "language_info": {
   "codemirror_mode": {
    "name": "ipython",
    "version": 2
   },
   "file_extension": ".py",
   "mimetype": "text/x-python",
   "name": "python",
   "nbconvert_exporter": "python",
   "pygments_lexer": "ipython2",
   "version": "2.7.13"
  }
 },
 "nbformat": 4,
 "nbformat_minor": 2
}
