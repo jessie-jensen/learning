{
 "cells": [
  {
   "cell_type": "markdown",
   "metadata": {},
   "source": [
    "# testing out sms apis"
   ]
  },
  {
   "cell_type": "markdown",
   "metadata": {},
   "source": [
    "### 1. testing out twilio\n",
    "\n",
    "https://www.twilio.com/docs/quickstart/python/sms#overview"
   ]
  },
  {
   "cell_type": "code",
   "execution_count": 21,
   "metadata": {
    "collapsed": true
   },
   "outputs": [],
   "source": [
    "import os\n",
    "from twilio.rest import Client\n",
    "\n",
    "with open('twilio_api.txt') as f:\n",
    "    twilio_creds = f.read().split('\\n')\n",
    "    \n",
    "twilio_client = Client(twilio_creds[0], twilio_creds[1])"
   ]
  },
  {
   "cell_type": "code",
   "execution_count": 22,
   "metadata": {
    "collapsed": false
   },
   "outputs": [],
   "source": [
    "with open('phone_numbers.txt') as f:\n",
    "    phone_numbers = f.read().split('\\n')\n",
    "\n",
    "for phone_number in phone_numbers:\n",
    "    twilio_client.messages.create(\n",
    "        to=phone_number,\n",
    "        from_=twilio_creds[2],\n",
    "        body='hello from python'\n",
    "    )"
   ]
  }
 ],
 "metadata": {
  "kernelspec": {
   "display_name": "Python 2",
   "language": "python",
   "name": "python2"
  },
  "language_info": {
   "codemirror_mode": {
    "name": "ipython",
    "version": 2
   },
   "file_extension": ".py",
   "mimetype": "text/x-python",
   "name": "python",
   "nbconvert_exporter": "python",
   "pygments_lexer": "ipython2",
   "version": "2.7.13"
  }
 },
 "nbformat": 4,
 "nbformat_minor": 2
}
