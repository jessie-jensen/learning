{
 "cells": [
  {
   "cell_type": "markdown",
   "metadata": {},
   "source": [
    "# Markov Chains from Scratch\n",
    "http://www.johnwittenauer.net/markov-chains-from-scratch/"
   ]
  },
  {
   "cell_type": "code",
   "execution_count": 3,
   "metadata": {},
   "outputs": [
    {
     "name": "stdout",
     "output_type": "stream",
     "text": [
      "Collecting urllib2\n",
      "\u001b[31m  Could not find a version that satisfies the requirement urllib2 (from versions: )\u001b[0m\n",
      "\u001b[31mNo matching distribution found for urllib2\u001b[0m\n",
      "\u001b[33mYou are using pip version 9.0.1, however version 18.0 is available.\n",
      "You should consider upgrading via the 'pip install --upgrade pip' command.\u001b[0m\n"
     ]
    }
   ],
   "source": [
    "!pip install urllib2"
   ]
  },
  {
   "cell_type": "code",
   "execution_count": 4,
   "metadata": {},
   "outputs": [
    {
     "ename": "ModuleNotFoundError",
     "evalue": "No module named 'urllib2'",
     "output_type": "error",
     "traceback": [
      "\u001b[0;31m---------------------------------------------------------------------------\u001b[0m",
      "\u001b[0;31mModuleNotFoundError\u001b[0m                       Traceback (most recent call last)",
      "\u001b[0;32m<ipython-input-4-3b98bc54ba15>\u001b[0m in \u001b[0;36m<module>\u001b[0;34m()\u001b[0m\n\u001b[0;32m----> 1\u001b[0;31m \u001b[0;32mimport\u001b[0m \u001b[0murllib2\u001b[0m\u001b[0;34m\u001b[0m\u001b[0m\n\u001b[0m\u001b[1;32m      2\u001b[0m \u001b[0;32mimport\u001b[0m \u001b[0mrandom\u001b[0m\u001b[0;34m\u001b[0m\u001b[0m\n\u001b[1;32m      3\u001b[0m \u001b[0;34m\u001b[0m\u001b[0m\n\u001b[1;32m      4\u001b[0m \u001b[0mtext\u001b[0m \u001b[0;34m=\u001b[0m \u001b[0murllib2\u001b[0m\u001b[0;34m.\u001b[0m\u001b[0murlopen\u001b[0m\u001b[0;34m(\u001b[0m\u001b[0;34m'https://raw.githubusercontent.com/ryanmcdermott/trump-speeches/master/speeches.txt'\u001b[0m\u001b[0;34m)\u001b[0m\u001b[0;34m\u001b[0m\u001b[0m\n",
      "\u001b[0;31mModuleNotFoundError\u001b[0m: No module named 'urllib2'"
     ]
    }
   ],
   "source": [
    "import urllib2\n",
    "import random\n",
    "\n",
    "text = urllib2.urlopen('https://raw.githubusercontent.com/ryanmcdermott/trump-speeches/master/speeches.txt')  "
   ]
  },
  {
   "cell_type": "code",
   "execution_count": 11,
   "metadata": {},
   "outputs": [
    {
     "name": "stdout",
     "output_type": "stream",
     "text": [
      "corpus size: 166222 words\n"
     ]
    }
   ],
   "source": [
    "# create ordered word list from speechs\n",
    "words = []\n",
    "\n",
    "for line in text:\n",
    "    line = line.decode('utf-8-sig', errors='ignore').encode('ascii', errors='ignore')\n",
    "    line = line.replace('\\r',' ').replace('\\n', ' ').replace('.','').lower()\n",
    "    new_words = line.split(' ')\n",
    "    new_words = [word for word in new_words if word not in['', ' ']]\n",
    "    words = words + new_words\n",
    "    \n",
    "print 'corpus size: {0} words'.format(len(words))"
   ]
  },
  {
   "cell_type": "code",
   "execution_count": 12,
   "metadata": {},
   "outputs": [
    {
     "data": {
      "text/plain": [
       "['speech', '1', 'thank', 'you', 'so', 'much', \"that's\", 'so', 'nice', \"isn't\"]"
      ]
     },
     "execution_count": 12,
     "metadata": {},
     "output_type": "execute_result"
    }
   ],
   "source": [
    "words[:10]"
   ]
  },
  {
   "cell_type": "code",
   "execution_count": 13,
   "metadata": {},
   "outputs": [
    {
     "name": "stdout",
     "output_type": "stream",
     "text": [
      "Chain size: 9094 distinct words.\n"
     ]
    }
   ],
   "source": [
    "# first order chain\n",
    "chain = {}\n",
    "n_words = len(words)\n",
    "\n",
    "for i, key in enumerate(words):\n",
    "    if n_words > (i+1):\n",
    "        word = words[i+1]\n",
    "        if key not in chain:\n",
    "            chain[key] = [word]\n",
    "        else:\n",
    "            chain[key].append(word)\n",
    "\n",
    "print 'Chain size: {0} distinct words.'.format(len(chain))"
   ]
  },
  {
   "cell_type": "code",
   "execution_count": 25,
   "metadata": {},
   "outputs": [
    {
     "data": {
      "text/plain": [
       "'you look at what i came out and gentlemen, thank you know very nice or eight or punches you can by 10 feet then all over and storming and all'"
      ]
     },
     "execution_count": 25,
     "metadata": {},
     "output_type": "execute_result"
    }
   ],
   "source": [
    "# create first order markov chain tweets\n",
    "w1 = random.choice(words)\n",
    "tweet = w1\n",
    "\n",
    "while len(tweet) < 140:\n",
    "    w2 = random.choice(chain[w1])\n",
    "    tweet += ' ' + w2\n",
    "    w1 = w2\n",
    "\n",
    "tweet"
   ]
  },
  {
   "cell_type": "code",
   "execution_count": 26,
   "metadata": {},
   "outputs": [
    {
     "name": "stdout",
     "output_type": "stream",
     "text": [
      "Chain size: 62358 distinct word pairs.\n"
     ]
    }
   ],
   "source": [
    "# second order chain\n",
    "chain = {}\n",
    "n_words = len(words)\n",
    "\n",
    "for i, key1 in enumerate(words):\n",
    "    if n_words > (i+2):\n",
    "        key2 = words[i + 1]\n",
    "        word = words[i + 2]\n",
    "        if (key1, key2) not in chain:\n",
    "            chain[(key1, key2)] = [word]\n",
    "        else:\n",
    "            chain[(key1, key2)].append(word)\n",
    "            \n",
    "print 'Chain size: {0} distinct word pairs.'.format(len(chain))"
   ]
  },
  {
   "cell_type": "code",
   "execution_count": 27,
   "metadata": {},
   "outputs": [
    {
     "data": {
      "text/plain": [
       "['nice',\n",
       " 'great',\n",
       " 'great',\n",
       " 'easy',\n",
       " 'bucolic,',\n",
       " 'beautiful',\n",
       " 'big',\n",
       " 'preposterous',\n",
       " 'important',\n",
       " 'important',\n",
       " 'simple',\n",
       " 'simple',\n",
       " 'horrible',\n",
       " 'out',\n",
       " 'terrible',\n",
       " 'wrong',\n",
       " 'important',\n",
       " 'sad',\n",
       " 'sad',\n",
       " 'much',\n",
       " 'sad',\n",
       " 'important',\n",
       " 'unfair',\n",
       " 'important',\n",
       " 'bad,',\n",
       " 'can',\n",
       " 'easy',\n",
       " 'embarrassing',\n",
       " 'important,',\n",
       " 'important',\n",
       " 'important',\n",
       " 'astronomical',\n",
       " 'incredible',\n",
       " 'complicated',\n",
       " 'easy',\n",
       " 'little',\n",
       " 'important',\n",
       " 'simple',\n",
       " 'important']"
      ]
     },
     "execution_count": 27,
     "metadata": {},
     "output_type": "execute_result"
    }
   ],
   "source": [
    "chain[('its','so')]"
   ]
  },
  {
   "cell_type": "code",
   "execution_count": 29,
   "metadata": {},
   "outputs": [
    {
     "data": {
      "text/plain": [
       "'we lose with trade when you read the art of the money but a tremendous waste of time, because as a result of trade imbalance with japan the $50'"
      ]
     },
     "execution_count": 29,
     "metadata": {},
     "output_type": "execute_result"
    }
   ],
   "source": [
    "def markov_tweet(chain, words):\n",
    "    r = random.randint(0, len(words) - 1)\n",
    "    key = (words[r], words[r+1])\n",
    "    tweet = key[0] + ' ' + key[1]\n",
    "\n",
    "    while len(tweet) < 140:\n",
    "        w = random.choice(chain[key])\n",
    "        tweet += ' ' + w\n",
    "        key = (key[1], w)\n",
    "\n",
    "    return tweet\n",
    "\n",
    "# test\n",
    "markov_tweet(chain, words)"
   ]
  },
  {
   "cell_type": "code",
   "execution_count": 30,
   "metadata": {},
   "outputs": [
    {
     "data": {
      "text/plain": [
       "'did something that if youre there illegally and if i answer that question, wed have millions of dollars overseas theyre leaving our country needs'"
      ]
     },
     "execution_count": 30,
     "metadata": {},
     "output_type": "execute_result"
    }
   ],
   "source": [
    "markov_tweet(chain, words)"
   ]
  },
  {
   "cell_type": "code",
   "execution_count": 31,
   "metadata": {},
   "outputs": [
    {
     "data": {
      "text/plain": [
       "'is most peaceful and most dangerous they can buy them why are they going to go through the process complicated\" and some phenomenal results you'"
      ]
     },
     "execution_count": 31,
     "metadata": {},
     "output_type": "execute_result"
    }
   ],
   "source": [
    "markov_tweet(chain, words)"
   ]
  },
  {
   "cell_type": "code",
   "execution_count": 32,
   "metadata": {},
   "outputs": [
    {
     "data": {
      "text/plain": [
       "'not domestic, production yet today, 240 years after the first sentence in the world was sort of like a fool now, what were doing actually great'"
      ]
     },
     "execution_count": 32,
     "metadata": {},
     "output_type": "execute_result"
    }
   ],
   "source": [
    "markov_tweet(chain, words)"
   ]
  },
  {
   "cell_type": "code",
   "execution_count": 33,
   "metadata": {},
   "outputs": [
    {
     "data": {
      "text/plain": [
       "'and prosperous, prosperous again together, we will win and ill tell you so, the wall one as sure as youre sitting there and theyre looking forward'"
      ]
     },
     "execution_count": 33,
     "metadata": {},
     "output_type": "execute_result"
    }
   ],
   "source": [
    "markov_tweet(chain, words)"
   ]
  }
 ],
 "metadata": {
  "kernelspec": {
   "display_name": "Python 3",
   "language": "python",
   "name": "python3"
  },
  "language_info": {
   "codemirror_mode": {
    "name": "ipython",
    "version": 3
   },
   "file_extension": ".py",
   "mimetype": "text/x-python",
   "name": "python",
   "nbconvert_exporter": "python",
   "pygments_lexer": "ipython3",
   "version": "3.6.4"
  }
 },
 "nbformat": 4,
 "nbformat_minor": 2
}
