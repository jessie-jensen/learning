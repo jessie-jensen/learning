{
 "cells": [
  {
   "cell_type": "code",
   "execution_count": 1,
   "metadata": {
    "collapsed": true
   },
   "outputs": [],
   "source": [
    "import turtle\n",
    "t = turtle.Pen()"
   ]
  },
  {
   "cell_type": "code",
   "execution_count": 6,
   "metadata": {
    "collapsed": true
   },
   "outputs": [],
   "source": [
    "t.forward(50)\n",
    "t.left(90)\n",
    "t.forward(50)"
   ]
  },
  {
   "cell_type": "code",
   "execution_count": 7,
   "metadata": {
    "collapsed": true
   },
   "outputs": [],
   "source": [
    "t.reset()"
   ]
  },
  {
   "cell_type": "code",
   "execution_count": 9,
   "metadata": {
    "collapsed": true
   },
   "outputs": [],
   "source": [
    "def draw_polygon_equal_sides(edges = 8, size = 50):\n",
    "    '''draws polygon with n edges with equal sides, and scaled size'''\n",
    "    t.reset()\n",
    "    for i in range(0,edges):\n",
    "        t.forward(size)\n",
    "        t.left(360 / edges)\n",
    "        \n",
    "#test\n",
    "draw_polygon_equal_sides()"
   ]
  },
  {
   "cell_type": "code",
   "execution_count": 21,
   "metadata": {
    "collapsed": true
   },
   "outputs": [],
   "source": [
    "draw_polygon_equal_sides(30, 30)"
   ]
  },
  {
   "cell_type": "code",
   "execution_count": 22,
   "metadata": {
    "collapsed": true
   },
   "outputs": [],
   "source": [
    "t.up()\n",
    "t.right(90)\n",
    "t.forward(50)\n",
    "\n",
    "t.down()\n",
    "t.forward(50)"
   ]
  },
  {
   "cell_type": "code",
   "execution_count": 30,
   "metadata": {
    "collapsed": false
   },
   "outputs": [],
   "source": [
    "# draw a blue tetris piece :)\n",
    "t.reset()\n",
    "t.color(0,0,1)\n",
    "t.begin_fill()\n",
    "\n",
    "t.forward(150)\n",
    "t.left(90)\n",
    "t.forward(50)\n",
    "t.left(90)\n",
    "t.forward(50)\n",
    "t.right(90)\n",
    "t.forward(50)\n",
    "t.left(90)\n",
    "t.forward(50)\n",
    "t.left(90)\n",
    "t.forward(50)\n",
    "t.right(90)\n",
    "t.forward(50)\n",
    "t.left(90)\n",
    "t.forward(50)\n",
    "\n",
    "t.end_fill()"
   ]
  },
  {
   "cell_type": "code",
   "execution_count": 35,
   "metadata": {
    "collapsed": true
   },
   "outputs": [],
   "source": [
    "# draw red circle\n",
    "t.reset()\n",
    "t.color(1,0,0)\n",
    "\n",
    "t.begin_fill()\n",
    "t.circle(30)\n",
    "t.end_fill()"
   ]
  },
  {
   "cell_type": "code",
   "execution_count": null,
   "metadata": {
    "collapsed": true
   },
   "outputs": [],
   "source": []
  }
 ],
 "metadata": {
  "kernelspec": {
   "display_name": "Python 2",
   "language": "python",
   "name": "python2"
  },
  "language_info": {
   "codemirror_mode": {
    "name": "ipython",
    "version": 2
   },
   "file_extension": ".py",
   "mimetype": "text/x-python",
   "name": "python",
   "nbconvert_exporter": "python",
   "pygments_lexer": "ipython2",
   "version": "2.7.13"
  }
 },
 "nbformat": 4,
 "nbformat_minor": 2
}
