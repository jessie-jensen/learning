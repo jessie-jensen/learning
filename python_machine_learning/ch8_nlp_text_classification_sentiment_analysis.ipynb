{
 "cells": [
  {
   "cell_type": "code",
   "execution_count": 49,
   "metadata": {},
   "outputs": [],
   "source": [
    "import pyprind\n",
    "import pandas as pd\n",
    "import os\n",
    "import numpy as np\n",
    "import re\n",
    "\n",
    "from sklearn.feature_extraction.text import CountVectorizer, TfidfTransformer, TfidfVectorizer, HashingVectorizer\n",
    "from sklearn.grid_search import GridSearchCV\n",
    "from sklearn.pipeline import Pipeline\n",
    "from sklearn.linear_model import LogisticRegression, SGDClassifier\n",
    "\n",
    "import nltk"
   ]
  },
  {
   "cell_type": "markdown",
   "metadata": {},
   "source": [
    "### load data"
   ]
  },
  {
   "cell_type": "code",
   "execution_count": 5,
   "metadata": {},
   "outputs": [
    {
     "name": "stderr",
     "output_type": "stream",
     "text": [
      "0% [##############################] 100% | ETA: 00:00:00\n",
      "Total time elapsed: 00:01:58\n"
     ]
    },
    {
     "data": {
      "text/html": [
       "<div>\n",
       "<style scoped>\n",
       "    .dataframe tbody tr th:only-of-type {\n",
       "        vertical-align: middle;\n",
       "    }\n",
       "\n",
       "    .dataframe tbody tr th {\n",
       "        vertical-align: top;\n",
       "    }\n",
       "\n",
       "    .dataframe thead th {\n",
       "        text-align: right;\n",
       "    }\n",
       "</style>\n",
       "<table border=\"1\" class=\"dataframe\">\n",
       "  <thead>\n",
       "    <tr style=\"text-align: right;\">\n",
       "      <th></th>\n",
       "      <th>review</th>\n",
       "      <th>sentiment</th>\n",
       "    </tr>\n",
       "  </thead>\n",
       "  <tbody>\n",
       "    <tr>\n",
       "      <th>0</th>\n",
       "      <td>Based on an actual story, John Boorman shows t...</td>\n",
       "      <td>1</td>\n",
       "    </tr>\n",
       "    <tr>\n",
       "      <th>1</th>\n",
       "      <td>This is a gem. As a Film Four production - the...</td>\n",
       "      <td>1</td>\n",
       "    </tr>\n",
       "    <tr>\n",
       "      <th>2</th>\n",
       "      <td>I really like this show. It has drama, romance...</td>\n",
       "      <td>1</td>\n",
       "    </tr>\n",
       "    <tr>\n",
       "      <th>3</th>\n",
       "      <td>This is the best 3-D experience Disney has at ...</td>\n",
       "      <td>1</td>\n",
       "    </tr>\n",
       "    <tr>\n",
       "      <th>4</th>\n",
       "      <td>Of the Korean movies I've seen, only three had...</td>\n",
       "      <td>1</td>\n",
       "    </tr>\n",
       "  </tbody>\n",
       "</table>\n",
       "</div>"
      ],
      "text/plain": [
       "                                              review  sentiment\n",
       "0  Based on an actual story, John Boorman shows t...          1\n",
       "1  This is a gem. As a Film Four production - the...          1\n",
       "2  I really like this show. It has drama, romance...          1\n",
       "3  This is the best 3-D experience Disney has at ...          1\n",
       "4  Of the Korean movies I've seen, only three had...          1"
      ]
     },
     "execution_count": 5,
     "metadata": {},
     "output_type": "execute_result"
    }
   ],
   "source": [
    "pbar = pyprind.ProgBar(50000)\n",
    "labels = {'pos':1, 'neg':0}\n",
    "df = pd.DataFrame()\n",
    "\n",
    "for s in ('test', 'train'):\n",
    "    for l in ('pos', 'neg'):\n",
    "        path = './aclImdb/{}/{}'.format(s, l)\n",
    "        for file in os.listdir(path):\n",
    "            with open(os.path.join(path, file), 'r') as f:\n",
    "                txt = f.read()\n",
    "            df = df.append([[txt, labels[l]]], ignore_index=True)\n",
    "            pbar.update()\n",
    "            \n",
    "df.columns = ['review', 'sentiment']\n",
    "\n",
    "df.head()"
   ]
  },
  {
   "cell_type": "code",
   "execution_count": 8,
   "metadata": {},
   "outputs": [
    {
     "name": "stdout",
     "output_type": "stream",
     "text": [
      "(50000, 2)\n"
     ]
    },
    {
     "data": {
      "text/html": [
       "<div>\n",
       "<style scoped>\n",
       "    .dataframe tbody tr th:only-of-type {\n",
       "        vertical-align: middle;\n",
       "    }\n",
       "\n",
       "    .dataframe tbody tr th {\n",
       "        vertical-align: top;\n",
       "    }\n",
       "\n",
       "    .dataframe thead th {\n",
       "        text-align: right;\n",
       "    }\n",
       "</style>\n",
       "<table border=\"1\" class=\"dataframe\">\n",
       "  <thead>\n",
       "    <tr style=\"text-align: right;\">\n",
       "      <th></th>\n",
       "      <th>review</th>\n",
       "      <th>sentiment</th>\n",
       "    </tr>\n",
       "  </thead>\n",
       "  <tbody>\n",
       "    <tr>\n",
       "      <th>0</th>\n",
       "      <td>The premise of this movie, of a comedian talk ...</td>\n",
       "      <td>0</td>\n",
       "    </tr>\n",
       "    <tr>\n",
       "      <th>1</th>\n",
       "      <td>I first remember bumping into this zaniness fr...</td>\n",
       "      <td>1</td>\n",
       "    </tr>\n",
       "    <tr>\n",
       "      <th>2</th>\n",
       "      <td>First of all I saw this movie without knowing ...</td>\n",
       "      <td>1</td>\n",
       "    </tr>\n",
       "    <tr>\n",
       "      <th>3</th>\n",
       "      <td>There must be an error. This movie belongs wit...</td>\n",
       "      <td>0</td>\n",
       "    </tr>\n",
       "    <tr>\n",
       "      <th>4</th>\n",
       "      <td>Alter Egos do not come funnier than the creati...</td>\n",
       "      <td>1</td>\n",
       "    </tr>\n",
       "  </tbody>\n",
       "</table>\n",
       "</div>"
      ],
      "text/plain": [
       "                                              review  sentiment\n",
       "0  The premise of this movie, of a comedian talk ...          0\n",
       "1  I first remember bumping into this zaniness fr...          1\n",
       "2  First of all I saw this movie without knowing ...          1\n",
       "3  There must be an error. This movie belongs wit...          0\n",
       "4  Alter Egos do not come funnier than the creati...          1"
      ]
     },
     "execution_count": 8,
     "metadata": {},
     "output_type": "execute_result"
    }
   ],
   "source": [
    "np.random.seed(0)\n",
    "df = df.reindex(np.random.permutation(df.index))\n",
    "df.to_csv('./movie_data.csv', index=False)\n",
    "\n",
    "df = pd.read_csv('./movie_data.csv') \n",
    "\n",
    "print(np.shape(df))\n",
    "df.head()"
   ]
  },
  {
   "cell_type": "markdown",
   "metadata": {},
   "source": [
    "### transform to feature vectors"
   ]
  },
  {
   "cell_type": "code",
   "execution_count": 14,
   "metadata": {},
   "outputs": [
    {
     "data": {
      "text/plain": [
       "{'and': 0, 'is': 1, 'shining': 2, 'sun': 3, 'sweet': 4, 'the': 5, 'weather': 6}"
      ]
     },
     "execution_count": 14,
     "metadata": {},
     "output_type": "execute_result"
    }
   ],
   "source": [
    "##############################\n",
    "# ex\n",
    "count = CountVectorizer()\n",
    "docs = np.array(['The sun is shining', 'The weather is sweet', 'The sun is shining and weather is sweet'])\n",
    "bag = count.fit_transform(docs)\n",
    "\n",
    "count.vocabulary_"
   ]
  },
  {
   "cell_type": "code",
   "execution_count": 15,
   "metadata": {},
   "outputs": [
    {
     "data": {
      "text/plain": [
       "array([[0, 1, 1, 1, 0, 1, 0],\n",
       "       [0, 1, 0, 0, 1, 1, 1],\n",
       "       [1, 2, 1, 1, 1, 1, 1]], dtype=int64)"
      ]
     },
     "execution_count": 15,
     "metadata": {},
     "output_type": "execute_result"
    }
   ],
   "source": [
    "bag.toarray()"
   ]
  },
  {
   "cell_type": "code",
   "execution_count": 16,
   "metadata": {},
   "outputs": [
    {
     "data": {
      "text/plain": [
       "array([[0.   , 0.434, 0.558, 0.558, 0.   , 0.434, 0.   ],\n",
       "       [0.   , 0.434, 0.   , 0.   , 0.558, 0.434, 0.558],\n",
       "       [0.445, 0.525, 0.338, 0.338, 0.338, 0.263, 0.338]])"
      ]
     },
     "execution_count": 16,
     "metadata": {},
     "output_type": "execute_result"
    }
   ],
   "source": [
    "tfidf = TfidfTransformer()\n",
    "np.set_printoptions(precision=3)\n",
    "tfidf.fit_transform(count.fit_transform(docs)).toarray()\n",
    "############################"
   ]
  },
  {
   "cell_type": "code",
   "execution_count": 23,
   "metadata": {},
   "outputs": [
    {
     "data": {
      "text/plain": [
       "'this is a test :)=(:)'"
      ]
     },
     "execution_count": 23,
     "metadata": {},
     "output_type": "execute_result"
    }
   ],
   "source": [
    "def preprocessor(s):\n",
    "    s = re.sub('<[^>]*>', '', s)\n",
    "    emojis = re.findall('(?::|;|=)(?:-)?(?:\\)|\\(|D|P)', s)\n",
    "    s = re.sub('[\\W]+', ' ', s)\n",
    "    s = s.lower() + ''.join(emojis).replace('-', '')\n",
    "    \n",
    "    return s\n",
    "\n",
    "# test\n",
    "preprocessor('</a>This is :) a =( test :-)')"
   ]
  },
  {
   "cell_type": "code",
   "execution_count": 24,
   "metadata": {},
   "outputs": [
    {
     "data": {
      "text/html": [
       "<div>\n",
       "<style scoped>\n",
       "    .dataframe tbody tr th:only-of-type {\n",
       "        vertical-align: middle;\n",
       "    }\n",
       "\n",
       "    .dataframe tbody tr th {\n",
       "        vertical-align: top;\n",
       "    }\n",
       "\n",
       "    .dataframe thead th {\n",
       "        text-align: right;\n",
       "    }\n",
       "</style>\n",
       "<table border=\"1\" class=\"dataframe\">\n",
       "  <thead>\n",
       "    <tr style=\"text-align: right;\">\n",
       "      <th></th>\n",
       "      <th>review</th>\n",
       "      <th>sentiment</th>\n",
       "    </tr>\n",
       "  </thead>\n",
       "  <tbody>\n",
       "    <tr>\n",
       "      <th>0</th>\n",
       "      <td>the premise of this movie of a comedian talk s...</td>\n",
       "      <td>0</td>\n",
       "    </tr>\n",
       "    <tr>\n",
       "      <th>1</th>\n",
       "      <td>i first remember bumping into this zaniness fr...</td>\n",
       "      <td>1</td>\n",
       "    </tr>\n",
       "    <tr>\n",
       "      <th>2</th>\n",
       "      <td>first of all i saw this movie without knowing ...</td>\n",
       "      <td>1</td>\n",
       "    </tr>\n",
       "    <tr>\n",
       "      <th>3</th>\n",
       "      <td>there must be an error this movie belongs with...</td>\n",
       "      <td>0</td>\n",
       "    </tr>\n",
       "    <tr>\n",
       "      <th>4</th>\n",
       "      <td>alter egos do not come funnier than the creati...</td>\n",
       "      <td>1</td>\n",
       "    </tr>\n",
       "  </tbody>\n",
       "</table>\n",
       "</div>"
      ],
      "text/plain": [
       "                                              review  sentiment\n",
       "0  the premise of this movie of a comedian talk s...          0\n",
       "1  i first remember bumping into this zaniness fr...          1\n",
       "2  first of all i saw this movie without knowing ...          1\n",
       "3  there must be an error this movie belongs with...          0\n",
       "4  alter egos do not come funnier than the creati...          1"
      ]
     },
     "execution_count": 24,
     "metadata": {},
     "output_type": "execute_result"
    }
   ],
   "source": [
    "df['review'] = df['review'].apply(preprocessor)\n",
    "df.head()"
   ]
  },
  {
   "cell_type": "markdown",
   "metadata": {},
   "source": [
    "### tokenize, stem and remove stop-words"
   ]
  },
  {
   "cell_type": "code",
   "execution_count": 37,
   "metadata": {},
   "outputs": [
    {
     "data": {
      "text/plain": [
       "['runners', 'like', 'running', 'and', 'thus', 'they', 'run']"
      ]
     },
     "execution_count": 37,
     "metadata": {},
     "output_type": "execute_result"
    }
   ],
   "source": [
    "def tokenize(s):\n",
    "    return s.split()\n",
    "\n",
    "#test\n",
    "test_l = tokenize('runners like running and thus they run')\n",
    "test_l"
   ]
  },
  {
   "cell_type": "code",
   "execution_count": 38,
   "metadata": {},
   "outputs": [
    {
     "data": {
      "text/plain": [
       "['runner', 'like', 'run', 'and', 'thu', 'they', 'run']"
      ]
     },
     "execution_count": 38,
     "metadata": {},
     "output_type": "execute_result"
    }
   ],
   "source": [
    "def tokenize_and_stem(s):\n",
    "    porter = nltk.stem.porter.PorterStemmer()\n",
    "    return [porter.stem(word) for word in s.split()]\n",
    "\n",
    "#test\n",
    "test_l = tokenize_and_stem('runners like running and thus they run')\n",
    "test_l"
   ]
  },
  {
   "cell_type": "code",
   "execution_count": 27,
   "metadata": {},
   "outputs": [
    {
     "name": "stdout",
     "output_type": "stream",
     "text": [
      "[nltk_data] Downloading package stopwords to /Users/jj/nltk_data...\n",
      "[nltk_data]   Unzipping corpora/stopwords.zip.\n"
     ]
    },
    {
     "data": {
      "text/plain": [
       "True"
      ]
     },
     "execution_count": 27,
     "metadata": {},
     "output_type": "execute_result"
    }
   ],
   "source": [
    "nltk.download('stopwords')"
   ]
  },
  {
   "cell_type": "code",
   "execution_count": 32,
   "metadata": {},
   "outputs": [
    {
     "data": {
      "text/plain": [
       "['runner', 'like', 'run', 'thu', 'run']"
      ]
     },
     "execution_count": 32,
     "metadata": {},
     "output_type": "execute_result"
    }
   ],
   "source": [
    "stop = nltk.corpus.stopwords.words('english')\n",
    "\n",
    "# test\n",
    "[w for w in test_l if w not in stop]"
   ]
  },
  {
   "cell_type": "markdown",
   "metadata": {},
   "source": [
    "### training"
   ]
  },
  {
   "cell_type": "code",
   "execution_count": 33,
   "metadata": {},
   "outputs": [],
   "source": [
    "X_train = df.loc[:25000, 'review'].values\n",
    "y_train = df.loc[:25000, 'sentiment'].values\n",
    "X_test = df.loc[25000:, 'review'].values\n",
    "y_test = df.loc[25000:, 'sentiment'].values"
   ]
  },
  {
   "cell_type": "code",
   "execution_count": 41,
   "metadata": {},
   "outputs": [
    {
     "name": "stdout",
     "output_type": "stream",
     "text": [
      "Fitting 5 folds for each of 48 candidates, totalling 240 fits\n"
     ]
    },
    {
     "name": "stderr",
     "output_type": "stream",
     "text": [
      "[Parallel(n_jobs=-1)]: Done  42 tasks      | elapsed: 10.1min\n",
      "[Parallel(n_jobs=-1)]: Done 192 tasks      | elapsed: 43.6min\n",
      "[Parallel(n_jobs=-1)]: Done 240 out of 240 | elapsed: 54.9min finished\n"
     ]
    },
    {
     "data": {
      "text/plain": [
       "GridSearchCV(cv=5, error_score='raise',\n",
       "       estimator=Pipeline(memory=None,\n",
       "     steps=[('vect', TfidfVectorizer(analyzer='word', binary=False, decode_error='strict',\n",
       "        dtype=<class 'numpy.int64'>, encoding='utf-8', input='content',\n",
       "        lowercase=False, max_df=1.0, max_features=None, min_df=1,\n",
       "        ngram_range=(1, 1), norm='l2', preprocessor=None, smooth_idf=True,\n",
       " ...nalty='l2', random_state=0, solver='liblinear', tol=0.0001,\n",
       "          verbose=0, warm_start=False))]),\n",
       "       fit_params={}, iid=True, n_jobs=-1,\n",
       "       param_grid=[{'vect__ngram_range': [(1, 1)], 'vect__stop_words': [['i', 'me', 'my', 'myself', 'we', 'our', 'ours', 'ourselves', 'you', \"you're\", \"you've\", \"you'll\", \"you'd\", 'your', 'yours', 'yourself', 'yourselves', 'he', 'him', 'his', 'himself', 'she', \"she's\", 'her', 'hers', 'herself', 'it', \"it's...se_idf': [False], 'vect__norm': [None], 'clf__penalty': ['l1', 'l2'], 'clf__C': [1.0, 10.0, 100.0]}],\n",
       "       pre_dispatch='2*n_jobs', refit=True, scoring='accuracy', verbose=1)"
      ]
     },
     "execution_count": 41,
     "metadata": {},
     "output_type": "execute_result"
    }
   ],
   "source": [
    "params = [{'vect__ngram_range': [(1,1)],\n",
    "          'vect__stop_words': [stop, None],\n",
    "          'vect__tokenizer': [tokenize, tokenize_and_stem],\n",
    "          'clf__penalty': ['l1','l2'],\n",
    "          'clf__C': [1.0, 10.0, 100.0]\n",
    "          },\n",
    "          {'vect__ngram_range': [(1,1)],\n",
    "          'vect__stop_words': [stop, None],\n",
    "          'vect__tokenizer': [tokenize, tokenize_and_stem],\n",
    "          'vect__use_idf': [False],\n",
    "          'vect__norm': [None],\n",
    "          'clf__penalty': ['l1','l2'],\n",
    "          'clf__C': [1.0, 10.0, 100.0]\n",
    "         }]\n",
    "\n",
    "lr_tfidf = Pipeline([('vect', TfidfVectorizer(strip_accents=None, lowercase=False, preprocessor=None)),\n",
    "                    ('clf', LogisticRegression(random_state=0))])\n",
    "\n",
    "gs_lr_tfidf = GridSearchCV(lr_tfidf, params,\n",
    "                          scoring='accuracy',\n",
    "                          cv=5,\n",
    "                          n_jobs=-1,\n",
    "                          verbose=1)\n",
    "\n",
    "gs_lr_tfidf.fit(X_train, y_train)"
   ]
  },
  {
   "cell_type": "code",
   "execution_count": 42,
   "metadata": {},
   "outputs": [
    {
     "data": {
      "text/plain": [
       "{'clf__C': 10.0,\n",
       " 'clf__penalty': 'l2',\n",
       " 'vect__ngram_range': (1, 1),\n",
       " 'vect__stop_words': None,\n",
       " 'vect__tokenizer': <function __main__.tokenize>}"
      ]
     },
     "execution_count": 42,
     "metadata": {},
     "output_type": "execute_result"
    }
   ],
   "source": [
    "gs_lr_tfidf.best_params_"
   ]
  },
  {
   "cell_type": "code",
   "execution_count": 44,
   "metadata": {},
   "outputs": [
    {
     "data": {
      "text/plain": [
       "0.8922443102275909"
      ]
     },
     "execution_count": 44,
     "metadata": {},
     "output_type": "execute_result"
    }
   ],
   "source": [
    "# train accuracy\n",
    "gs_lr_tfidf.best_score_"
   ]
  },
  {
   "cell_type": "code",
   "execution_count": 46,
   "metadata": {},
   "outputs": [
    {
     "data": {
      "text/plain": [
       "0.89992"
      ]
     },
     "execution_count": 46,
     "metadata": {},
     "output_type": "execute_result"
    }
   ],
   "source": [
    "# test accuracy\n",
    "clf = gs_lr_tfidf.best_estimator_\n",
    "clf.score(X_test, y_test)"
   ]
  },
  {
   "cell_type": "markdown",
   "metadata": {},
   "source": [
    "### online & out-of-core learning"
   ]
  },
  {
   "cell_type": "code",
   "execution_count": 48,
   "metadata": {},
   "outputs": [
    {
     "data": {
      "text/plain": [
       "('\"The premise of this movie, of a comedian talk show host running for president as an independent just to shake things up, is funny, entertaining, brilliant and even a bit inspiring. (thought about the west wing debate when Tom Dobbs leaves his podium, thought about Steven Colbert announcing his candidacy, good times) The first 15 - 20 minutes of this movie are therefore very very entertaining, the debate especially. When he eventually get\\'s elected, it\\'s a pity that is because of a computer glitch, you\\'d want him to win fair (although that is unrealistic).<br /><br />But after that this movie goes completely downhill. I thought we\\'d get a great movie like \\'Dave\\' (1993) in which we see how it would out if a comedian actually ran the country. Instead, the movie turns from comedy into a thriller, a romantic comedy and a drama and does none good. The computer glitch becomes the main storyline, which really sucks. Boy is this disappointing. I give it 3 stars just for the premise and because I actually managed to watch this movie from start to end without stopping it, which is usually a good thing with me.\"',\n",
       " 0)"
      ]
     },
     "execution_count": 48,
     "metadata": {},
     "output_type": "execute_result"
    }
   ],
   "source": [
    "def stream_docs(path):\n",
    "    with open(path, 'r', encoding='utf-8') as csv:\n",
    "        next(csv)\n",
    "        for line in csv:\n",
    "            text, label = line[:-3], int(line[-2])\n",
    "            yield text, label\n",
    "\n",
    "#test\n",
    "next(stream_docs('./movie_data.csv'))"
   ]
  },
  {
   "cell_type": "code",
   "execution_count": 52,
   "metadata": {},
   "outputs": [
    {
     "data": {
      "text/plain": [
       "(['\"The premise of this movie, of a comedian talk show host running for president as an independent just to shake things up, is funny, entertaining, brilliant and even a bit inspiring. (thought about the west wing debate when Tom Dobbs leaves his podium, thought about Steven Colbert announcing his candidacy, good times) The first 15 - 20 minutes of this movie are therefore very very entertaining, the debate especially. When he eventually get\\'s elected, it\\'s a pity that is because of a computer glitch, you\\'d want him to win fair (although that is unrealistic).<br /><br />But after that this movie goes completely downhill. I thought we\\'d get a great movie like \\'Dave\\' (1993) in which we see how it would out if a comedian actually ran the country. Instead, the movie turns from comedy into a thriller, a romantic comedy and a drama and does none good. The computer glitch becomes the main storyline, which really sucks. Boy is this disappointing. I give it 3 stars just for the premise and because I actually managed to watch this movie from start to end without stopping it, which is usually a good thing with me.\"',\n",
       "  '\"I first remember bumping into this zaniness from the Zucker brothers and Jim Abrahams, back in the early days at Comedy Central. Back in those days (the 90\\'s) their programming consisted of Benny Hill reruns and the original MST3k, complete with bearded host.<br /><br />Capt. Frank Drebin (played by the stone-faced, dead-pan filibuster, Leslie Nielson) is a process created first from the amalgamation of various stereotypical police television show protagonists (think Dragnet meets Starsky & Hutch the Show), boiled in a flask full of well-known police television show plots and scenarios. This is distilled, 3 times to produce the most pure policeman every made. Forget about Simon Pegg in Hot Fuzz (for now. save it for later). Frank Drebin is clueless at most times, a terrible driver, a terrible shot, macho yet sensitive and vulnerable. He is a master of the police investigative methodology (a.k.a - ask Johnny the Leathery Old Shoe-Shine Boy). This does not make him a bad cop. Cops get lucky also. Capt Drebin (notice he\\'s a Captain here) has perfected it. Along with his partner, Nordberg, and the rest of force, perfectly parody the police drama over the course of 6 golden episodes.<br /><br />The show is a treasure trove of hilarious dialog and quotable quote-ables. Most of the sight gags are a bit dated and silly. The magic never came from the sight gags,however. At its core was a nonsensical and straight-faced conversation and activities in the foreground, with crazy things occurring in the background. The movies can best be described as 90 minute compilations of the best gags from this series. Think of Monty Python\\'s And Now For Something Completely Different.....<br /><br />If you liked Airplane 1 & 2, Naked Gun 1,2,3, or Top Secret, then you will definitely enjoy this. <br /><br />I always liked the series better than the movies, even though I saw the movies first. Why? 2 words : No O.J.\"',\n",
       "  '\"First of all I saw this movie without knowing anything about it I just knew that Joel Schumacher did it and that was enough for me. A friend and I went to see it at a Danish film festival called the night-film festival which is a lot of different movies shown after hours the festival pretty much specializes in showing movies that wouldn\\'t otherwise be shown in Danish theaters.<br /><br />Anyway My friend and I went to see it and we were astonished at how real it seemed and that it really struck a cord with our feelings, we really got caught up in the plot without being able to figure out the ending which is a great plus in our book.<br /><br />The film is recorded in a style that reminds me of the Danish initiative \"\"dogma 95\"\" which was started by 4 Danish directors including Lars Von Trier (Dancer In the Dark).<br /><br />In conclusion the movie is really worth seeing it gives a different perspective on how things were for the American G.I. Joe coming out of school being expected to serve their country in battle a long way from home.<br /><br />Also Colin Farrell is exceptional in this movie I haven\\'t seen him before but I can\\'t wait to see more of him.<br /><br />Lars P. Helvard\"',\n",
       "  '\"There must be an error. This movie belongs with \"\"Plan 9\"\", and a lot others as a quite entertaining, silly diversion. You\\'ll never accept you like it, yet you will watch it whenever it comes out on TV. It\\'s as simple as that.\"',\n",
       "  '\"Alter Egos do not come funnier than the creation of Sacha Baron Cohen\\'s Ali G. Completely misled by his delusional and non-existent sense of the Middle England Suburban surroundings that his social background consists of. He persists on living the style of a Los Angeles Gansta. While still living with his Gran in the London suburb of Staines, he keeps tight control of his Posse, the West Staines \"\"Massiv\"\".<br /><br />Spending his spare time between Me Julie, his girl, the Posse and teaching local eight year old Scouts at \"\"Keep it Real (advanced)\"\" lessons at the Government funded John Nike Leisure Centre.<br /><br />This is where the story takes off, being told that the Government funding has stopped, Ali G then proceeds on a one-man quest \"\"In the struggle for Justice I iz willing to lay down me Life, just like Martin Luther Van Dross did\"\". Being his reply to the local media crew when interviewing him on hunger strike while chained to a fence.<br /><br />Charles Dance here plays David Carlton, the sinister and devious Deputy Prime Minster, who is \"\"Even more eviller than Skeletor\"\". Using Ali G, unknowingly, to lose the Prime Minster 18,000 votes three weeks before the General Election. Seeing Ali G as a bumbling idiot, his plan backfires. Ali G suddenly becomes an over night sensation and a saviour of the people, working directly with the Prime Minster. The story becomes more sinister and with hilarious consequences.<br /><br />Ali G Indahouse is a great British movie that brings the hugely talented attributes of writing, along with Dan Mazer, executive production and acting of Sacha Baron Cohen. Charles Dance and Michael Gambon, as the P.M. play their parts with great seriousness among the gags and hilarity that is Ali G.<br /><br />Ironically, seeing the parodies playing their parts in a World that really is real, and who are continually preaching \"\"Keep it Real\"\" from their own little World that is the West Staines \"\"Massiv\"\" is true comic paradox.<br /><br />Directed by Mark Mylod, his first full length feature film since directing television work such as Shameless, Shooting Stars, The Fast Show and the Smell of Reeves and Mortimer to name a few.<br /><br />Very Real and very funny.\"'],\n",
       " [0, 1, 1, 0, 1])"
      ]
     },
     "execution_count": 52,
     "metadata": {},
     "output_type": "execute_result"
    }
   ],
   "source": [
    "def get_minibatch(doc_stream, size):\n",
    "    docs, y = [], []\n",
    "    try:\n",
    "        for _ in range(size):\n",
    "            text, label = next(doc_stream)\n",
    "            docs.append(text)\n",
    "            y.append(label)\n",
    "    except StopIteration:\n",
    "        return None, None\n",
    "    return docs, y\n",
    "\n",
    "#test\n",
    "get_minibatch(stream_docs('./movie_data.csv'), 5)"
   ]
  },
  {
   "cell_type": "code",
   "execution_count": 53,
   "metadata": {},
   "outputs": [],
   "source": [
    "vect = HashingVectorizer(decode_error='ignore', \n",
    "                         n_features=2**21, \n",
    "                         preprocessor=None, \n",
    "                         tokenizer=tokenize_and_stem)\n",
    "clf = SGDClassifier(loss='log', \n",
    "                    random_state=1, \n",
    "                    n_iter=1)\n",
    "doc_stream = stream_docs('./movie_data.csv')"
   ]
  },
  {
   "cell_type": "code",
   "execution_count": 54,
   "metadata": {},
   "outputs": [
    {
     "name": "stderr",
     "output_type": "stream",
     "text": [
      "0% [##############################] 100% | ETA: 00:00:00\n",
      "Total time elapsed: 00:02:46\n"
     ]
    }
   ],
   "source": [
    "batches = 45\n",
    "pbar = pyprind.ProgBar(batches)\n",
    "classes = np.array([0,1])\n",
    "for _ in range(batches):\n",
    "    X_train, y_train = get_minibatch(doc_stream, 1000)\n",
    "    if not X_train:\n",
    "        break\n",
    "    X_train = vect.transform(X_train)\n",
    "    clf.partial_fit(X_train, y_train, classes=classes)\n",
    "    pbar.update()"
   ]
  },
  {
   "cell_type": "code",
   "execution_count": 59,
   "metadata": {},
   "outputs": [
    {
     "data": {
      "text/plain": [
       "0.8214"
      ]
     },
     "execution_count": 59,
     "metadata": {},
     "output_type": "execute_result"
    }
   ],
   "source": [
    "# test accuracy\n",
    "X_test, y_test = get_minibatch(doc_stream, 5000)\n",
    "X_test = vect.transform(X_test)\n",
    "clf.score(X_test, y_test)"
   ]
  }
 ],
 "metadata": {
  "kernelspec": {
   "display_name": "Python 3",
   "language": "python",
   "name": "python3"
  },
  "language_info": {
   "codemirror_mode": {
    "name": "ipython",
    "version": 3
   },
   "file_extension": ".py",
   "mimetype": "text/x-python",
   "name": "python",
   "nbconvert_exporter": "python",
   "pygments_lexer": "ipython3",
   "version": "3.6.4"
  }
 },
 "nbformat": 4,
 "nbformat_minor": 2
}
