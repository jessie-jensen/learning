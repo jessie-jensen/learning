{
 "cells": [
  {
   "cell_type": "code",
   "execution_count": 73,
   "metadata": {},
   "outputs": [],
   "source": [
    "from sklearn.cluster import KMeans, AgglomerativeClustering, DBSCAN\n",
    "from sklearn.datasets import make_blobs, make_moons\n",
    "from sklearn.metrics import silhouette_samples\n",
    "\n",
    "\n",
    "import pandas as pd\n",
    "import numpy as np\n",
    "\n",
    "from scipy.spatial.distance import pdist, squareform\n",
    "from scipy.cluster.hierarchy import linkage, dendrogram\n",
    "\n",
    "from matplotlib import cm\n",
    "import matplotlib.pyplot as plt\n",
    "import seaborn as sns; sns.set(color_codes=True)\n",
    "\n",
    "plt.style.use('ggplot')"
   ]
  },
  {
   "cell_type": "code",
   "execution_count": 68,
   "metadata": {},
   "outputs": [
    {
     "data": {
      "image/png": "[encoded data removed]",
      "text/plain": [
       "<Figure size 432x288 with 1 Axes>"
      ]
     },
     "metadata": {},
     "output_type": "display_data"
    }
   ],
   "source": [
    "X, y = make_blobs(n_samples=500,\n",
    "                 n_features=2,\n",
    "                 centers=3,\n",
    "                 cluster_std=0.5,\n",
    "                 shuffle=True)\n",
    "\n",
    "plt.scatter(X[:,0], X[:,1], s=50)\n",
    "plt.grid()\n",
    "plt.show()"
   ]
  },
  {
   "cell_type": "markdown",
   "metadata": {},
   "source": [
    "# kmeans"
   ]
  },
  {
   "cell_type": "code",
   "execution_count": 30,
   "metadata": {},
   "outputs": [
    {
     "data": {
      "text/plain": [
       "array([2, 2, 2, 0, 2, 1, 2, 2, 0, 0, 1, 0, 0, 2, 0, 0, 1, 0, 0, 0, 2, 1,\n",
       "       1, 1, 2, 1, 0, 0, 2, 0, 2, 0, 2, 1, 1, 0, 2, 0, 2, 2, 0, 2, 2, 1,\n",
       "       0, 0, 1, 0, 2, 1, 0, 0, 2, 1, 1, 2, 0, 2, 0, 0, 0, 1, 2, 2, 0, 2,\n",
       "       2, 2, 1, 1, 0, 0, 1, 2, 0, 2, 0, 1, 1, 0, 2, 2, 2, 1, 1, 1, 1, 2,\n",
       "       2, 0, 2, 0, 2, 0, 0, 0, 1, 0, 2, 0, 1, 2, 1, 0, 1, 0, 2, 1, 1, 1,\n",
       "       1, 0, 1, 2, 2, 0, 0, 2, 0, 2, 2, 1, 2, 1, 1, 0, 0, 0, 0, 2, 2, 1,\n",
       "       2, 1, 0, 0, 1, 2, 1, 0, 2, 0, 1, 2, 1, 1, 1, 1, 2, 1, 1, 0, 2, 0,\n",
       "       2, 1, 2, 1, 0, 0, 0, 2, 0, 1, 0, 1, 2, 1, 2, 2, 2, 2, 1, 1, 2, 0,\n",
       "       0, 1, 0, 2, 2, 0, 1, 1, 0, 2, 2, 1, 0, 0, 2, 1, 2, 2, 1, 0, 0, 1,\n",
       "       0, 1, 0, 2, 2, 2, 1, 2, 0, 2, 1, 0, 2, 1, 1, 1, 0, 0, 0, 0, 2, 2,\n",
       "       1, 1, 0, 0, 0, 2, 0, 0, 0, 0, 1, 0, 0, 2, 0, 2, 1, 1, 0, 0, 0, 1,\n",
       "       1, 1, 2, 0, 2, 1, 1, 0, 2, 0, 0, 2, 1, 1, 0, 2, 0, 1, 2, 2, 2, 1,\n",
       "       0, 1, 1, 0, 0, 0, 1, 2, 1, 0, 2, 2, 1, 1, 2, 2, 1, 0, 0, 2, 1, 1,\n",
       "       0, 2, 2, 0, 2, 2, 2, 1, 0, 0, 2, 1, 2, 2, 0, 2, 1, 1, 1, 0, 1, 0,\n",
       "       1, 2, 0, 0, 1, 1, 2, 2, 1, 1, 0, 0, 2, 0, 1, 0, 1, 0, 1, 2, 1, 2,\n",
       "       0, 0, 1, 2, 2, 2, 1, 1, 0, 1, 1, 2, 0, 1, 1, 0, 1, 1, 2, 0, 2, 0,\n",
       "       1, 1, 2, 0, 1, 2, 1, 2, 1, 0, 1, 2, 0, 2, 2, 0, 0, 0, 2, 1, 0, 1,\n",
       "       0, 2, 2, 2, 2, 1, 2, 0, 0, 0, 1, 2, 1, 2, 2, 2, 0, 1, 2, 0, 1, 0,\n",
       "       2, 1, 0, 0, 2, 1, 2, 1, 0, 0, 1, 1, 2, 1, 1, 2, 0, 2, 2, 0, 2, 1,\n",
       "       0, 2, 1, 0, 2, 1, 1, 1, 2, 0, 1, 2, 1, 2, 0, 0, 2, 0, 1, 2, 2, 1,\n",
       "       2, 1, 2, 1, 2, 2, 2, 0, 1, 2, 0, 0, 0, 0, 1, 1, 1, 0, 0, 1, 1, 1,\n",
       "       0, 1, 2, 0, 2, 0, 2, 0, 1, 2, 0, 1, 2, 1, 1, 1, 2, 1, 1, 0, 1, 2,\n",
       "       0, 1, 2, 1, 0, 1, 1, 2, 2, 0, 2, 1, 0, 2, 1, 2], dtype=int32)"
      ]
     },
     "execution_count": 30,
     "metadata": {},
     "output_type": "execute_result"
    }
   ],
   "source": [
    "km = KMeans(n_clusters=3,\n",
    "           init='random',\n",
    "           n_init=10,\n",
    "           max_iter=300,\n",
    "           tol=1e-04)\n",
    "y_km = km.fit_predict(X)\n",
    "y_km"
   ]
  },
  {
   "cell_type": "markdown",
   "metadata": {},
   "source": [
    "### kmeans++ initialization"
   ]
  },
  {
   "cell_type": "code",
   "execution_count": 32,
   "metadata": {},
   "outputs": [
    {
     "data": {
      "text/plain": [
       "array([1, 1, 1, 2, 1, 0, 1, 1, 2, 2, 0, 2, 2, 1, 2, 2, 0, 2, 2, 2, 1, 0,\n",
       "       0, 0, 1, 0, 2, 2, 1, 2, 1, 2, 1, 0, 0, 2, 1, 2, 1, 1, 2, 1, 1, 0,\n",
       "       2, 2, 0, 2, 1, 0, 2, 2, 1, 0, 0, 1, 2, 1, 2, 2, 2, 0, 1, 1, 2, 1,\n",
       "       1, 1, 0, 0, 2, 2, 0, 1, 2, 1, 2, 0, 0, 2, 1, 1, 1, 0, 0, 0, 0, 1,\n",
       "       1, 2, 1, 2, 1, 2, 2, 2, 0, 2, 1, 2, 0, 1, 0, 2, 0, 2, 1, 0, 0, 0,\n",
       "       0, 2, 0, 1, 1, 2, 2, 1, 2, 1, 1, 0, 1, 0, 0, 2, 2, 2, 2, 1, 1, 0,\n",
       "       1, 0, 2, 2, 0, 1, 0, 2, 1, 2, 0, 1, 0, 0, 0, 0, 1, 0, 0, 2, 1, 2,\n",
       "       1, 0, 1, 0, 2, 2, 2, 1, 2, 0, 2, 0, 1, 0, 1, 1, 1, 1, 0, 0, 1, 2,\n",
       "       2, 0, 2, 1, 1, 2, 0, 0, 2, 1, 1, 0, 2, 2, 1, 0, 1, 1, 0, 2, 2, 0,\n",
       "       2, 0, 2, 1, 1, 1, 0, 1, 2, 1, 0, 2, 1, 0, 0, 0, 2, 2, 2, 2, 1, 1,\n",
       "       0, 0, 2, 2, 2, 1, 2, 2, 2, 2, 0, 2, 2, 1, 2, 1, 0, 0, 2, 2, 2, 0,\n",
       "       0, 0, 1, 2, 1, 0, 0, 2, 1, 2, 2, 1, 0, 0, 2, 1, 2, 0, 1, 1, 1, 0,\n",
       "       2, 0, 0, 2, 2, 2, 0, 1, 0, 2, 1, 1, 0, 0, 1, 1, 0, 2, 2, 1, 0, 0,\n",
       "       2, 1, 1, 2, 1, 1, 1, 0, 2, 2, 1, 0, 1, 1, 2, 1, 0, 0, 0, 2, 0, 2,\n",
       "       0, 1, 2, 2, 0, 0, 1, 1, 0, 0, 2, 2, 1, 2, 0, 2, 0, 2, 0, 1, 0, 1,\n",
       "       2, 2, 0, 1, 1, 1, 0, 0, 2, 0, 0, 1, 2, 0, 0, 2, 0, 0, 1, 2, 1, 2,\n",
       "       0, 0, 1, 2, 0, 1, 0, 1, 0, 2, 0, 1, 2, 1, 1, 2, 2, 2, 1, 0, 2, 0,\n",
       "       2, 1, 1, 1, 1, 0, 1, 2, 2, 2, 0, 1, 0, 1, 1, 1, 2, 0, 1, 2, 0, 2,\n",
       "       1, 0, 2, 2, 1, 0, 1, 0, 2, 2, 0, 0, 1, 0, 0, 1, 2, 1, 1, 2, 1, 0,\n",
       "       2, 1, 0, 2, 1, 0, 0, 0, 1, 2, 0, 1, 0, 1, 2, 2, 1, 2, 0, 1, 1, 0,\n",
       "       1, 0, 1, 0, 1, 1, 1, 2, 0, 1, 2, 2, 2, 2, 0, 0, 0, 2, 2, 0, 0, 0,\n",
       "       2, 0, 1, 2, 1, 2, 1, 2, 0, 1, 2, 0, 1, 0, 0, 0, 1, 0, 0, 2, 0, 1,\n",
       "       2, 0, 1, 0, 2, 0, 0, 1, 1, 2, 1, 0, 2, 1, 0, 1], dtype=int32)"
      ]
     },
     "execution_count": 32,
     "metadata": {},
     "output_type": "execute_result"
    }
   ],
   "source": [
    "km = KMeans(n_clusters=3,\n",
    "           init='k-means++', # << only needed change (also sklearn default)\n",
    "           n_init=10,\n",
    "           max_iter=300,\n",
    "           tol=1e-04)\n",
    "y_km = km.fit_predict(X)\n",
    "y_km"
   ]
  },
  {
   "cell_type": "markdown",
   "metadata": {},
   "source": [
    " ### elbow method"
   ]
  },
  {
   "cell_type": "code",
   "execution_count": 34,
   "metadata": {},
   "outputs": [
    {
     "data": {
      "text/plain": [
       "252.57399761768724"
      ]
     },
     "execution_count": 34,
     "metadata": {},
     "output_type": "execute_result"
    }
   ],
   "source": [
    "# within cluster SSE (distortion)\n",
    "km.inertia_"
   ]
  },
  {
   "cell_type": "code",
   "execution_count": 47,
   "metadata": {},
   "outputs": [
    {
     "data": {
      "text/plain": [
       "[4482.014378710057,\n",
       " 252.57399761768724,\n",
       " 219.07135179065523,\n",
       " 189.05875782898613,\n",
       " 163.7887857303491,\n",
       " 144.25053582056609,\n",
       " 127.63793753469444,\n",
       " 112.16862194957963,\n",
       " 103.51436137831372]"
      ]
     },
     "execution_count": 47,
     "metadata": {},
     "output_type": "execute_result"
    }
   ],
   "source": [
    "distortions = []\n",
    "silhouettes = []\n",
    "\n",
    "for i in range(2, 11):\n",
    "    km = KMeans(n_clusters=i,\n",
    "               init='k-means++',\n",
    "               n_init=10,\n",
    "               max_iter=300)\n",
    "    y_km = km.fit_predict(X)\n",
    "    distortions.append(km.inertia_)\n",
    "    sil = np.mean(silhouette_samples(X, y_km, metric='euclidean'))\n",
    "    silhouettes.append(sil)\n",
    "    \n",
    "distortions"
   ]
  },
  {
   "cell_type": "code",
   "execution_count": 48,
   "metadata": {},
   "outputs": [
    {
     "data": {
      "text/plain": [
       "[0.7110131686625688,\n",
       " 0.8803169499787376,\n",
       " 0.7001113633346481,\n",
       " 0.5150964816048138,\n",
       " 0.3261359695728209,\n",
       " 0.3472475228888858,\n",
       " 0.3432309310825797,\n",
       " 0.3434494106970808,\n",
       " 0.3400380153334539]"
      ]
     },
     "execution_count": 48,
     "metadata": {},
     "output_type": "execute_result"
    }
   ],
   "source": [
    "silhouettes"
   ]
  },
  {
   "cell_type": "code",
   "execution_count": 45,
   "metadata": {},
   "outputs": [
    {
     "data": {
      "image/png": "[encoded data removed]",
      "text/plain": [
       "<Figure size 432x288 with 1 Axes>"
      ]
     },
     "metadata": {},
     "output_type": "display_data"
    }
   ],
   "source": [
    "plt.plot(range(2, 11), distortions, marker='o')\n",
    "plt.xlabel('k clusters')\n",
    "plt.ylabel('distortion')\n",
    "plt.show()"
   ]
  },
  {
   "cell_type": "markdown",
   "metadata": {},
   "source": [
    "note elbow at k=3"
   ]
  },
  {
   "cell_type": "markdown",
   "metadata": {},
   "source": [
    "### silhouette plot"
   ]
  },
  {
   "cell_type": "code",
   "execution_count": 51,
   "metadata": {},
   "outputs": [
    {
     "data": {
      "image/png": "[encoded data removed]",
      "text/plain": [
       "<Figure size 432x288 with 1 Axes>"
      ]
     },
     "metadata": {},
     "output_type": "display_data"
    }
   ],
   "source": [
    "plt.plot(range(2, 11), silhouettes, marker='o')\n",
    "plt.xlabel('k clusters')\n",
    "plt.ylabel('silhouette score')\n",
    "plt.show()"
   ]
  },
  {
   "cell_type": "markdown",
   "metadata": {},
   "source": [
    "k=3 also maxes silhoutte score"
   ]
  },
  {
   "cell_type": "code",
   "execution_count": 52,
   "metadata": {},
   "outputs": [],
   "source": [
    "km = KMeans(n_clusters=3,\n",
    "               init='k-means++',\n",
    "               n_init=10,\n",
    "               max_iter=300)\n",
    "y_km = km.fit_predict(X)"
   ]
  },
  {
   "cell_type": "code",
   "execution_count": 57,
   "metadata": {},
   "outputs": [
    {
     "data": {
      "image/png": "[encoded data removed]",
      "text/plain": [
       "<Figure size 432x288 with 1 Axes>"
      ]
     },
     "metadata": {},
     "output_type": "display_data"
    }
   ],
   "source": [
    "cluster_labels = np.unique(y_km)\n",
    "sil = silhouette_samples(X, y_km, metric='euclidean')\n",
    "\n",
    "y_lower, y_upper = 0, 0\n",
    "yticks = []\n",
    "\n",
    "for i, c in enumerate(cluster_labels):\n",
    "    c_sil = sil[y_km==c]\n",
    "    c_sil.sort()\n",
    "    y_upper += len(c_sil)\n",
    "    color = cm.jet(i / len(np.unique(y_km)))\n",
    "    plt.barh(range(y_lower, y_upper),\n",
    "            c_sil,\n",
    "            height=1.0, edgecolor='none', color=color)\n",
    "    yticks.append((y_lower + y_upper)/2)\n",
    "    y_lower += len(c_sil)\n",
    "    \n",
    "sil_score = np.mean(sil)\n",
    "plt.axvline(sil_score, color='red', linestyle='--')\n",
    "\n",
    "plt.yticks(yticks, cluster_labels)\n",
    "plt.ylabel('cluster')\n",
    "plt.xlabel('silhouette')\n",
    "plt.show()"
   ]
  },
  {
   "cell_type": "markdown",
   "metadata": {},
   "source": [
    "# hierarchical clustering"
   ]
  },
  {
   "cell_type": "markdown",
   "metadata": {},
   "source": [
    "### hierarchical agglomerative clustering via complete linkage"
   ]
  },
  {
   "cell_type": "code",
   "execution_count": 61,
   "metadata": {},
   "outputs": [
    {
     "data": {
      "text/html": [
       "<div>\n",
       "<style scoped>\n",
       "    .dataframe tbody tr th:only-of-type {\n",
       "        vertical-align: middle;\n",
       "    }\n",
       "\n",
       "    .dataframe tbody tr th {\n",
       "        vertical-align: top;\n",
       "    }\n",
       "\n",
       "    .dataframe thead th {\n",
       "        text-align: right;\n",
       "    }\n",
       "</style>\n",
       "<table border=\"1\" class=\"dataframe\">\n",
       "  <thead>\n",
       "    <tr style=\"text-align: right;\">\n",
       "      <th></th>\n",
       "      <th>x</th>\n",
       "      <th>y</th>\n",
       "      <th>z</th>\n",
       "    </tr>\n",
       "  </thead>\n",
       "  <tbody>\n",
       "    <tr>\n",
       "      <th>id_0</th>\n",
       "      <td>6.931691</td>\n",
       "      <td>6.457910</td>\n",
       "      <td>0.200742</td>\n",
       "    </tr>\n",
       "    <tr>\n",
       "      <th>id_1</th>\n",
       "      <td>5.884695</td>\n",
       "      <td>9.615313</td>\n",
       "      <td>0.390008</td>\n",
       "    </tr>\n",
       "    <tr>\n",
       "      <th>id_2</th>\n",
       "      <td>9.389369</td>\n",
       "      <td>7.567639</td>\n",
       "      <td>8.961786</td>\n",
       "    </tr>\n",
       "    <tr>\n",
       "      <th>id_3</th>\n",
       "      <td>7.753434</td>\n",
       "      <td>5.682064</td>\n",
       "      <td>1.338860</td>\n",
       "    </tr>\n",
       "    <tr>\n",
       "      <th>id_4</th>\n",
       "      <td>8.614032</td>\n",
       "      <td>5.064897</td>\n",
       "      <td>1.360965</td>\n",
       "    </tr>\n",
       "  </tbody>\n",
       "</table>\n",
       "</div>"
      ],
      "text/plain": [
       "             x         y         z\n",
       "id_0  6.931691  6.457910  0.200742\n",
       "id_1  5.884695  9.615313  0.390008\n",
       "id_2  9.389369  7.567639  8.961786\n",
       "id_3  7.753434  5.682064  1.338860\n",
       "id_4  8.614032  5.064897  1.360965"
      ]
     },
     "execution_count": 61,
     "metadata": {},
     "output_type": "execute_result"
    }
   ],
   "source": [
    "vars_ = ['x','y','z']\n",
    "labs_ = ['id_{}'.format(i) for i in range(5)]\n",
    "\n",
    "X = np.random.random_sample([5,3])*10\n",
    "df = pd.DataFrame(X, columns=vars_, index=labs_)\n",
    "df"
   ]
  },
  {
   "cell_type": "code",
   "execution_count": 62,
   "metadata": {},
   "outputs": [
    {
     "data": {
      "text/html": [
       "<div>\n",
       "<style scoped>\n",
       "    .dataframe tbody tr th:only-of-type {\n",
       "        vertical-align: middle;\n",
       "    }\n",
       "\n",
       "    .dataframe tbody tr th {\n",
       "        vertical-align: top;\n",
       "    }\n",
       "\n",
       "    .dataframe thead th {\n",
       "        text-align: right;\n",
       "    }\n",
       "</style>\n",
       "<table border=\"1\" class=\"dataframe\">\n",
       "  <thead>\n",
       "    <tr style=\"text-align: right;\">\n",
       "      <th></th>\n",
       "      <th>id_0</th>\n",
       "      <th>id_1</th>\n",
       "      <th>id_2</th>\n",
       "      <th>id_3</th>\n",
       "      <th>id_4</th>\n",
       "    </tr>\n",
       "  </thead>\n",
       "  <tbody>\n",
       "    <tr>\n",
       "      <th>id_0</th>\n",
       "      <td>0.000000</td>\n",
       "      <td>3.331848</td>\n",
       "      <td>9.166656</td>\n",
       "      <td>1.603906</td>\n",
       "      <td>2.473232</td>\n",
       "    </tr>\n",
       "    <tr>\n",
       "      <th>id_1</th>\n",
       "      <td>3.331848</td>\n",
       "      <td>0.000000</td>\n",
       "      <td>9.484255</td>\n",
       "      <td>4.456787</td>\n",
       "      <td>5.394286</td>\n",
       "    </tr>\n",
       "    <tr>\n",
       "      <th>id_2</th>\n",
       "      <td>9.166656</td>\n",
       "      <td>9.484255</td>\n",
       "      <td>0.000000</td>\n",
       "      <td>8.021264</td>\n",
       "      <td>8.039736</td>\n",
       "    </tr>\n",
       "    <tr>\n",
       "      <th>id_3</th>\n",
       "      <td>1.603906</td>\n",
       "      <td>4.456787</td>\n",
       "      <td>8.021264</td>\n",
       "      <td>0.000000</td>\n",
       "      <td>1.059251</td>\n",
       "    </tr>\n",
       "    <tr>\n",
       "      <th>id_4</th>\n",
       "      <td>2.473232</td>\n",
       "      <td>5.394286</td>\n",
       "      <td>8.039736</td>\n",
       "      <td>1.059251</td>\n",
       "      <td>0.000000</td>\n",
       "    </tr>\n",
       "  </tbody>\n",
       "</table>\n",
       "</div>"
      ],
      "text/plain": [
       "          id_0      id_1      id_2      id_3      id_4\n",
       "id_0  0.000000  3.331848  9.166656  1.603906  2.473232\n",
       "id_1  3.331848  0.000000  9.484255  4.456787  5.394286\n",
       "id_2  9.166656  9.484255  0.000000  8.021264  8.039736\n",
       "id_3  1.603906  4.456787  8.021264  0.000000  1.059251\n",
       "id_4  2.473232  5.394286  8.039736  1.059251  0.000000"
      ]
     },
     "execution_count": 62,
     "metadata": {},
     "output_type": "execute_result"
    }
   ],
   "source": [
    "dist_df = pd.DataFrame(squareform(pdist(df, metric='euclidean')),\n",
    "                      columns=labs_,\n",
    "                      index=labs_)\n",
    "dist_df"
   ]
  },
  {
   "cell_type": "code",
   "execution_count": 63,
   "metadata": {},
   "outputs": [
    {
     "data": {
      "text/plain": [
       "array([[3.        , 4.        , 1.05925087, 2.        ],\n",
       "       [0.        , 5.        , 2.47323219, 3.        ],\n",
       "       [1.        , 6.        , 5.39428632, 4.        ],\n",
       "       [2.        , 7.        , 9.48425521, 5.        ]])"
      ]
     },
     "execution_count": 63,
     "metadata": {},
     "output_type": "execute_result"
    }
   ],
   "source": [
    "clusters = linkage(df.values, method='complete', metric='euclidean')\n",
    "clusters"
   ]
  },
  {
   "cell_type": "code",
   "execution_count": 66,
   "metadata": {},
   "outputs": [
    {
     "data": {
      "text/html": [
       "<div>\n",
       "<style scoped>\n",
       "    .dataframe tbody tr th:only-of-type {\n",
       "        vertical-align: middle;\n",
       "    }\n",
       "\n",
       "    .dataframe tbody tr th {\n",
       "        vertical-align: top;\n",
       "    }\n",
       "\n",
       "    .dataframe thead th {\n",
       "        text-align: right;\n",
       "    }\n",
       "</style>\n",
       "<table border=\"1\" class=\"dataframe\">\n",
       "  <thead>\n",
       "    <tr style=\"text-align: right;\">\n",
       "      <th></th>\n",
       "      <th>row index 1</th>\n",
       "      <th>row index 2</th>\n",
       "      <th>dist</th>\n",
       "      <th>n in cluster</th>\n",
       "    </tr>\n",
       "  </thead>\n",
       "  <tbody>\n",
       "    <tr>\n",
       "      <th>0</th>\n",
       "      <td>3.0</td>\n",
       "      <td>4.0</td>\n",
       "      <td>1.059251</td>\n",
       "      <td>2.0</td>\n",
       "    </tr>\n",
       "    <tr>\n",
       "      <th>1</th>\n",
       "      <td>0.0</td>\n",
       "      <td>5.0</td>\n",
       "      <td>2.473232</td>\n",
       "      <td>3.0</td>\n",
       "    </tr>\n",
       "    <tr>\n",
       "      <th>2</th>\n",
       "      <td>1.0</td>\n",
       "      <td>6.0</td>\n",
       "      <td>5.394286</td>\n",
       "      <td>4.0</td>\n",
       "    </tr>\n",
       "    <tr>\n",
       "      <th>3</th>\n",
       "      <td>2.0</td>\n",
       "      <td>7.0</td>\n",
       "      <td>9.484255</td>\n",
       "      <td>5.0</td>\n",
       "    </tr>\n",
       "  </tbody>\n",
       "</table>\n",
       "</div>"
      ],
      "text/plain": [
       "   row index 1  row index 2      dist  n in cluster\n",
       "0          3.0          4.0  1.059251           2.0\n",
       "1          0.0          5.0  2.473232           3.0\n",
       "2          1.0          6.0  5.394286           4.0\n",
       "3          2.0          7.0  9.484255           5.0"
      ]
     },
     "execution_count": 66,
     "metadata": {},
     "output_type": "execute_result"
    }
   ],
   "source": [
    "pd.DataFrame(clusters, columns=['row index 1', 'row index 2', 'dist', 'n in cluster'])"
   ]
  },
  {
   "cell_type": "code",
   "execution_count": 65,
   "metadata": {},
   "outputs": [
    {
     "data": {
      "image/png": "[encoded data removed]",
      "text/plain": [
       "<Figure size 432x288 with 1 Axes>"
      ]
     },
     "metadata": {},
     "output_type": "display_data"
    }
   ],
   "source": [
    "dendrogram(clusters, labels=labs_)\n",
    "plt.ylabel('euclidean distance')\n",
    "plt.show()"
   ]
  },
  {
   "cell_type": "code",
   "execution_count": 70,
   "metadata": {},
   "outputs": [
    {
     "data": {
      "text/plain": [
       "<seaborn.matrix.ClusterGrid at 0x1a2178d668>"
      ]
     },
     "execution_count": 70,
     "metadata": {},
     "output_type": "execute_result"
    },
    {
     "data": {
      "image/png": "[encoded data removed]",
      "text/plain": [
       "<Figure size 720x720 with 4 Axes>"
      ]
     },
     "metadata": {},
     "output_type": "display_data"
    }
   ],
   "source": [
    "sns.clustermap(df, col_cluster=False, row_linkage=clusters)"
   ]
  },
  {
   "cell_type": "markdown",
   "metadata": {},
   "source": [
    "### from sklearn"
   ]
  },
  {
   "cell_type": "code",
   "execution_count": 72,
   "metadata": {},
   "outputs": [
    {
     "data": {
      "text/plain": [
       "array([0, 0, 1, 0, 0])"
      ]
     },
     "execution_count": 72,
     "metadata": {},
     "output_type": "execute_result"
    }
   ],
   "source": [
    "ac = AgglomerativeClustering(n_clusters=2,\n",
    "                            affinity='euclidean',\n",
    "                            linkage='complete')\n",
    "labels = ac.fit_predict(df.values)\n",
    "labels"
   ]
  },
  {
   "cell_type": "markdown",
   "metadata": {},
   "source": [
    "# density based clustering"
   ]
  },
  {
   "cell_type": "markdown",
   "metadata": {},
   "source": [
    "### DBSCAN"
   ]
  },
  {
   "cell_type": "code",
   "execution_count": 86,
   "metadata": {},
   "outputs": [
    {
     "data": {
      "text/plain": [
       "<matplotlib.collections.PathCollection at 0x1a27cdf9e8>"
      ]
     },
     "execution_count": 86,
     "metadata": {},
     "output_type": "execute_result"
    },
    {
     "data": {
      "image/png": "[encoded data removed]",
      "text/plain": [
       "<Figure size 432x288 with 1 Axes>"
      ]
     },
     "metadata": {},
     "output_type": "display_data"
    }
   ],
   "source": [
    "X, y = make_moons(n_samples=2000,\n",
    "                 noise=0.15)\n",
    "plt.scatter(X[:,0], X[:,1])"
   ]
  },
  {
   "cell_type": "code",
   "execution_count": 87,
   "metadata": {},
   "outputs": [
    {
     "data": {
      "text/plain": [
       "array([ 0,  0,  0, ...,  0,  1, -1])"
      ]
     },
     "execution_count": 87,
     "metadata": {},
     "output_type": "execute_result"
    }
   ],
   "source": [
    "db = DBSCAN(eps=0.2,\n",
    "           min_samples=50,\n",
    "           metric='euclidean')\n",
    "\n",
    "y_db = db.fit_predict(X)\n",
    "y_db"
   ]
  },
  {
   "cell_type": "code",
   "execution_count": 89,
   "metadata": {},
   "outputs": [
    {
     "data": {
      "image/png": "[encoded data removed]",
      "text/plain": [
       "<Figure size 432x288 with 1 Axes>"
      ]
     },
     "metadata": {},
     "output_type": "display_data"
    }
   ],
   "source": [
    "plt.scatter(X[y_db==0,0],\n",
    "           X[y_db==0,1],\n",
    "           c='lightblue',\n",
    "           marker='o',\n",
    "           s=40,\n",
    "           label='c1')\n",
    "plt.scatter(X[y_db==1,0],\n",
    "           X[y_db==1,1],\n",
    "           c='orange',\n",
    "           marker='s',\n",
    "           s=40,\n",
    "           label='c2')\n",
    "plt.scatter(X[y_db==-1,0],\n",
    "           X[y_db==-1,1],\n",
    "           c='red',\n",
    "           marker='x',\n",
    "           s=40,\n",
    "           label='outliers')\n",
    "plt.legend()\n",
    "plt.show()"
   ]
  },
  {
   "cell_type": "code",
   "execution_count": null,
   "metadata": {},
   "outputs": [],
   "source": []
  }
 ],
 "metadata": {
  "kernelspec": {
   "display_name": "Python 3",
   "language": "python",
   "name": "python3"
  },
  "language_info": {
   "codemirror_mode": {
    "name": "ipython",
    "version": 3
   },
   "file_extension": ".py",
   "mimetype": "text/x-python",
   "name": "python",
   "nbconvert_exporter": "python",
   "pygments_lexer": "ipython3",
   "version": "3.6.4"
  }
 },
 "nbformat": 4,
 "nbformat_minor": 2
}
