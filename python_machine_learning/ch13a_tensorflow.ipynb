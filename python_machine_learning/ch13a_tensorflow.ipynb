{
 "cells": [
  {
   "cell_type": "markdown",
   "metadata": {},
   "source": [
    "# ch13 tensorflow"
   ]
  },
  {
   "cell_type": "code",
   "execution_count": 3,
   "metadata": {},
   "outputs": [],
   "source": [
    "import tensorflow as tf\n",
    "\n",
    "import numpy as np"
   ]
  },
  {
   "attachments": {
    "image.png": {
     "image/png": "[encoded data removed]"
    }
   },
   "cell_type": "markdown",
   "metadata": {},
   "source": [
    "### testing on:\n",
    "\n",
    "![image.png](attachment:image.png)"
   ]
  },
  {
   "cell_type": "code",
   "execution_count": 2,
   "metadata": {},
   "outputs": [
    {
     "name": "stdout",
     "output_type": "stream",
     "text": [
      "WARNING:tensorflow:From /Users/jj/anaconda3/lib/python3.6/site-packages/tensorflow/python/framework/op_def_library.py:263: colocate_with (from tensorflow.python.framework.ops) is deprecated and will be removed in a future version.\n",
      "Instructions for updating:\n",
      "Colocations handled automatically by placer.\n",
      "x=1.0 --> z=2.700000047683716\n",
      "x=0.6 --> z=1.9000000953674316\n",
      "x=-1.8 --> z=-2.8999998569488525\n"
     ]
    }
   ],
   "source": [
    "g = tf.Graph()\n",
    "with g.as_default():\n",
    "    x = tf.placeholder(dtype=tf.float32,\n",
    "                      shape=(None),\n",
    "                      name='x')\n",
    "    w = tf.Variable(2.0, name='weight')\n",
    "    b = tf.Variable(.7, name='bias')\n",
    "    \n",
    "    z = w*x + b\n",
    "    \n",
    "    init = tf.global_variables_initializer()\n",
    "    \n",
    "with tf.Session(graph=g) as sess:\n",
    "    sess.run(init)\n",
    "    \n",
    "    for t in [1.0, .6, -1.8]:\n",
    "        print('x={} --> z={}'.format(t, sess.run(z, feed_dict={x:t})))"
   ]
  },
  {
   "cell_type": "markdown",
   "metadata": {},
   "source": [
    "### using arrays [ex. batchsize x 2 x 3]"
   ]
  },
  {
   "cell_type": "code",
   "execution_count": 9,
   "metadata": {},
   "outputs": [
    {
     "name": "stdout",
     "output_type": "stream",
     "text": [
      "input shape: (3, 2, 3)\n",
      "    reshaped:\n",
      "[[ 0.  1.  2.  3.  4.  5.]\n",
      " [ 6.  7.  8.  9. 10. 11.]\n",
      " [12. 13. 14. 15. 16. 17.]]\n",
      "    column sums:\n",
      "[18. 21. 24. 27. 30. 33.]\n",
      "    column means:\n",
      "[ 6.  7.  8.  9. 10. 11.]\n"
     ]
    }
   ],
   "source": [
    "g = tf.Graph()\n",
    "\n",
    "with g.as_default():\n",
    "    x = tf.placeholder(dtype=tf.float32,\n",
    "                      shape=(None, 2, 3),\n",
    "                      name='input_x')\n",
    "    \n",
    "    x2 = tf.reshape(x, shape=(-1, 6),\n",
    "                   name='x2')\n",
    "    \n",
    "    # column sum\n",
    "    xsum = tf.reduce_sum(x2, axis=0, name='col_sum')\n",
    "    \n",
    "    # column mean\n",
    "    xmean = tf.reduce_mean(x2, axis=0, name='col_mean')\n",
    "    \n",
    "    \n",
    "with tf.Session(graph=g) as sess:\n",
    "    x_array = np.arange(18).reshape(3, 2, 3)\n",
    "    \n",
    "    s = '''input shape: {}\n",
    "    reshaped:\\n{}\n",
    "    column sums:\\n{}\n",
    "    column means:\\n{}'''.format(x_array.shape,\n",
    "                               sess.run(x2, feed_dict={x:x_array}),\n",
    "                               sess.run(xsum, feed_dict={x:x_array}),\n",
    "                               sess.run(xmean, feed_dict={x:x_array}))\n",
    "    print(s)"
   ]
  },
  {
   "cell_type": "markdown",
   "metadata": {},
   "source": [
    "### ols using tensors"
   ]
  },
  {
   "cell_type": "code",
   "execution_count": 10,
   "metadata": {},
   "outputs": [],
   "source": [
    " X_train = np.arange(10).reshape((10, 1))\n",
    "y_train = np.array([1.0, 1.3, 3.1,\n",
    "                     2.0, 5.0, 6.3,\n",
    "                     6.6, 7.4, 8.0,\n",
    "                     9.0])"
   ]
  },
  {
   "cell_type": "code",
   "execution_count": 30,
   "metadata": {},
   "outputs": [],
   "source": [
    "class TfLinearRegression(object):\n",
    "    \n",
    "    def __init__(self, x_dim, learning_rate=0.01, random_seed=None):\n",
    "        self.x_dim = x_dim\n",
    "        self.learning_rate = learning_rate\n",
    "        \n",
    "        self.g = tf.Graph()\n",
    "\n",
    "        # init model\n",
    "        with self.g.as_default():\n",
    "            tf.set_random_seed(random_seed)\n",
    "            self.build()\n",
    "            self.init_op = tf.global_variables_initializer()\n",
    "            \n",
    "    \n",
    "    def build(self):\n",
    "        self.X = tf.placeholder(dtype=tf.float32,\n",
    "                               shape=(None, self.x_dim),\n",
    "                               name='x_input')\n",
    "        self.y = tf.placeholder(dtype=tf.float32,\n",
    "                               shape=(None),\n",
    "                               name='y_input')\n",
    "        w = tf.Variable(tf.zeros(shape=(1)),\n",
    "                       name='weight')\n",
    "        b = tf.Variable(tf.zeros(shape=(1)),\n",
    "                       name='bias')\n",
    "        \n",
    "        print('x: {}\\ny: {}\\nw: {}\\nb: {}'.format(self.X,\n",
    "                                                  self.y,\n",
    "                                                  w,\n",
    "                                                  b))\n",
    "        \n",
    "        self.z_net = tf.squeeze(w*self.X + b,\n",
    "                               name='z_net')\n",
    "        sq_err = tf.square(self.y - self.z_net,\n",
    "                          name='sq_err')\n",
    "        print('z: {}\\nsq_err: {}'.format(self.z_net,\n",
    "                                        sq_err))\n",
    "        \n",
    "        self.mean_cost = tf.reduce_mean(sq_err,\n",
    "                                       name='mean_cost')\n",
    "        \n",
    "        optimizer = tf.train.GradientDescentOptimizer(learning_rate=self.learning_rate,\n",
    "                                                     name='GradientDescent')\n",
    "        \n",
    "        self.optimizer = optimizer.minimize(self.mean_cost)\n",
    "        \n",
    "    \n",
    "    def get_sess(self):\n",
    "        if hasattr(self, 'sess') == False:\n",
    "            self.sess = tf.Session(graph=self.g)\n",
    "        \n",
    "        return self.sess\n",
    "    \n",
    "    \n",
    "    def train(self, X_train, y_train, epochs=10):\n",
    "        sess = self.get_sess()\n",
    "        sess.run(self.init_op)\n",
    "        \n",
    "        training_costs= []\n",
    "        for i in range(epochs):\n",
    "            _, cost = sess.run([self.optimizer, self.mean_cost],\n",
    "                              feed_dict={self.X:X_train,\n",
    "                                        self.y:y_train})\n",
    "            training_costs.append(cost)\n",
    "        \n",
    "        return training_costs\n",
    "    \n",
    "    \n",
    "    def predict(self, X_test):\n",
    "        sess = self.get_sess()\n",
    "        y_pred = sess.run(self.z_net,\n",
    "                         feed_dict={self.X:X_test})\n",
    "        return y_pred"
   ]
  },
  {
   "cell_type": "code",
   "execution_count": 31,
   "metadata": {},
   "outputs": [
    {
     "name": "stdout",
     "output_type": "stream",
     "text": [
      "x: Tensor(\"x_input:0\", shape=(?, 1), dtype=float32)\n",
      "y: Tensor(\"y_input:0\", dtype=float32)\n",
      "w: <tf.Variable 'weight:0' shape=(1,) dtype=float32_ref>\n",
      "b: <tf.Variable 'bias:0' shape=(1,) dtype=float32_ref>\n",
      "z: Tensor(\"z_net:0\", dtype=float32)\n",
      "sq_err: Tensor(\"sq_err:0\", dtype=float32)\n"
     ]
    }
   ],
   "source": [
    "ols = TfLinearRegression(x_dim=X_train.shape[1], learning_rate=0.01)"
   ]
  },
  {
   "cell_type": "code",
   "execution_count": 33,
   "metadata": {},
   "outputs": [
    {
     "data": {
      "text/plain": [
       "[32.431,\n",
       " 6.0113096,\n",
       " 1.446125,\n",
       " 0.65659344,\n",
       " 0.5193632,\n",
       " 0.4948352,\n",
       " 0.48978764,\n",
       " 0.48811454,\n",
       " 0.48703355,\n",
       " 0.48606348]"
      ]
     },
     "execution_count": 33,
     "metadata": {},
     "output_type": "execute_result"
    }
   ],
   "source": [
    "ols.train(X_train, y_train, epochs=10)"
   ]
  },
  {
   "cell_type": "code",
   "execution_count": 35,
   "metadata": {},
   "outputs": [
    {
     "data": {
      "text/plain": [
       "array([0.19570023, 1.2230239 , 2.2503474 , 3.2776709 , 4.3049946 ,\n",
       "       5.3323183 , 6.3596416 , 7.3869653 , 8.414289  , 9.441613  ],\n",
       "      dtype=float32)"
      ]
     },
     "execution_count": 35,
     "metadata": {},
     "output_type": "execute_result"
    }
   ],
   "source": [
    "ols.predict(X_train)"
   ]
  },
  {
   "cell_type": "code",
   "execution_count": null,
   "metadata": {},
   "outputs": [],
   "source": []
  }
 ],
 "metadata": {
  "kernelspec": {
   "display_name": "Python 3",
   "language": "python",
   "name": "python3"
  },
  "language_info": {
   "codemirror_mode": {
    "name": "ipython",
    "version": 3
   },
   "file_extension": ".py",
   "mimetype": "text/x-python",
   "name": "python",
   "nbconvert_exporter": "python",
   "pygments_lexer": "ipython3",
   "version": "3.6.4"
  }
 },
 "nbformat": 4,
 "nbformat_minor": 2
}
