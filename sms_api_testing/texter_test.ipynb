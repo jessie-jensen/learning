{
 "cells": [
  {
   "cell_type": "markdown",
   "metadata": {},
   "source": [
    "# testing out sms apis"
   ]
  },
  {
   "cell_type": "markdown",
   "metadata": {},
   "source": [
    "### 1. testing out twilio\n",
    "\n",
    "https://www.twilio.com/docs/quickstart/python/sms#overview"
   ]
  },
  {
   "cell_type": "code",
   "execution_count": null,
   "metadata": {
    "collapsed": true
   },
   "outputs": [],
   "source": [
    "import os\n",
    "from twilio.rest import Client\n",
    "\n",
    "with open('twilio_api.txt') as f:\n",
    "    twilio_creds = f.read().split('\\n')\n",
    "    \n",
    "twilio_client = Client(twilio_creds[0], twilio_creds[1])"
   ]
  },
  {
   "cell_type": "code",
   "execution_count": null,
   "metadata": {
    "collapsed": false
   },
   "outputs": [],
   "source": [
    "with open('phone_numbers.txt') as f:\n",
    "    phone_numbers = f.read().split('\\n')\n",
    "\n",
    "for phone_number in phone_numbers:\n",
    "    twilio_client.messages.create(\n",
    "        to=phone_number,\n",
    "        from_=twilio_creds[2],\n",
    "        body='hello from python'\n",
    "    )"
   ]
  },
  {
   "cell_type": "markdown",
   "metadata": {
    "collapsed": true
   },
   "source": [
    "### 2. nexmo\n",
    "https://dashboard.nexmo.com"
   ]
  },
  {
   "cell_type": "code",
   "execution_count": null,
   "metadata": {
    "collapsed": true
   },
   "outputs": [],
   "source": [
    "import nexmo\n",
    "\n",
    "with open('nexmo_api.txt') as f:\n",
    "    nexmo_creds = f.read().split('\\n')\n",
    "    \n",
    "    \n",
    "nexmo_client = nexmo.Client(key=nexmo_creds[0], secret=nexmo_creds[1])"
   ]
  },
  {
   "cell_type": "code",
   "execution_count": null,
   "metadata": {
    "collapsed": false
   },
   "outputs": [],
   "source": [
    "with open('phone_numbers.txt') as f:\n",
    "    phone_numbers = f.read().split('\\n')\n",
    "\n",
    "nexmo_client.send_message({\n",
    "  'from': nexmo_creds[2],\n",
    "  'to': phone_numbers[0],\n",
    "  'text': '''hello from python\n",
    "  '''\n",
    "})"
   ]
  },
  {
   "cell_type": "markdown",
   "metadata": {},
   "source": [
    "### 3. gmail to carrier\n",
    "https://github.com/CrakeNotSnowman/Python_Message/blob/master/sendMessage.py"
   ]
  },
  {
   "cell_type": "code",
   "execution_count": null,
   "metadata": {
    "collapsed": false
   },
   "outputs": [],
   "source": [
    "import smtplib\n",
    "\n",
    "with open('scoopbot_creds.txt') as f:\n",
    "    gmail_creds = f.read().split('\\n')\n",
    "    \n",
    "gmail_server = smtplib.SMTP('smtp.gmail.com:587')\n",
    "gmail_server.starttls()\n",
    "gmail_server.login(gmail_creds[0],gmail_creds[1])"
   ]
  },
  {
   "cell_type": "code",
   "execution_count": null,
   "metadata": {
    "collapsed": false
   },
   "outputs": [],
   "source": [
    "with open('phone_numbers.txt') as f:\n",
    "    phone_numbers = f.read().split('\\n')\n",
    "    \n",
    "to_address = phone_numbers[0].replace('+1','') + '@tmomail.net'\n",
    "\n",
    "message = \"\"\"From: From ScoopBot <%s>\n",
    "To:  <%s>\n",
    "Subject: IM ALIVE\n",
    "\n",
    "\n",
    "This is a test.\n",
    "\n",
    "Did you get it?\n",
    "\"\"\" % (gmail_creds[0], to_address)\n",
    "\n",
    "gmail_server.sendmail(from_addr=gmail_creds[0], to_addrs=to_address, msg=message)"
   ]
  },
  {
   "cell_type": "code",
   "execution_count": null,
   "metadata": {
    "collapsed": false
   },
   "outputs": [],
   "source": [
    "gmail_server.quit()"
   ]
  },
  {
   "cell_type": "markdown",
   "metadata": {},
   "source": [
    "### 4. telesign\n",
    "https://portal.telesign.com/portal/dashboard"
   ]
  },
  {
   "cell_type": "code",
   "execution_count": null,
   "metadata": {
    "collapsed": true
   },
   "outputs": [],
   "source": [
    "from telesign.messaging import MessagingClient\n",
    "\n",
    "with open('telesign_api.txt') as f:\n",
    "    telesign_creds = f.read().split('\\n')\n",
    "    \n",
    "telesign_client = MessagingClient(telesign_creds[0], telesign_creds[1])"
   ]
  },
  {
   "cell_type": "code",
   "execution_count": null,
   "metadata": {
    "collapsed": false
   },
   "outputs": [],
   "source": [
    "with open('phone_numbers.txt') as f:\n",
    "    phone_numbers = f.read().split('\\n')\n",
    "\n",
    "msg = 'hello from python'\n",
    "\n",
    "telesign_client.message(phone_number=phone_numbers[0], message=msg, message_type='ARN')"
   ]
  },
  {
   "cell_type": "markdown",
   "metadata": {},
   "source": [
    "### 5. Clockwork SMS\n",
    "\n",
    "https://www.clockworksms.com"
   ]
  },
  {
   "cell_type": "code",
   "execution_count": null,
   "metadata": {
    "collapsed": true
   },
   "outputs": [],
   "source": [
    "from clockwork import clockwork\n",
    "\n",
    "with open('clockwork_api.txt') as f:\n",
    "    clockwork_creds = f.read().split('\\n')\n",
    "    \n",
    "clockwork_client = clockwork.API(clockwork_creds[0])"
   ]
  },
  {
   "cell_type": "code",
   "execution_count": null,
   "metadata": {
    "collapsed": false
   },
   "outputs": [],
   "source": [
    "with open('phone_numbers.txt') as f:\n",
    "    phone_numbers = f.read().split('\\n')\n",
    "\n",
    "message = clockwork.SMS(\n",
    "    to = phone_numbers[0].replace('+',''),\n",
    "    message = 'hello from python'\n",
    ")\n",
    "\n",
    "response = clockwork_client.send(message)"
   ]
  },
  {
   "cell_type": "markdown",
   "metadata": {},
   "source": [
    "### 6. The texting\n",
    "https://www.thetexting.com/"
   ]
  },
  {
   "cell_type": "code",
   "execution_count": null,
   "metadata": {
    "collapsed": false
   },
   "outputs": [],
   "source": [
    "import requests\n",
    "\n",
    "with open('thetexting_api.txt') as f:\n",
    "    thetexting_creds = f.read().split('\\n')\n",
    "    \n",
    "with open('phone_numbers.txt') as f:\n",
    "    phone_numbers = f.read().split('\\n')\n",
    "\n",
    "url = \"https://www.thetexting.com/rest/sms/json/message/send\"\n",
    "headers = {\n",
    " 'cache-control': \"no-cache\",\n",
    " 'content-type': \"application/x-www-form-urlencoded\"\n",
    " }\n",
    "\n",
    "\n",
    "msg = 'hello from python'\n",
    "msg = msg.replace(' ', '%20')\n",
    "\n",
    "payload = \"api_secret=%s&api_key=%s&to=%s&text=%s&type=text\" % (thetexting_creds[0], thetexting_creds[1], phone_numbers[0], msg)\n",
    "\n",
    "response = requests.request(\"POST\", url, data=payload, headers=headers)\n",
    "\n",
    "print response.text"
   ]
  },
  {
   "cell_type": "markdown",
   "metadata": {},
   "source": [
    "### 7. Textbelt\n",
    "https://textbelt.com/"
   ]
  },
  {
   "cell_type": "code",
   "execution_count": null,
   "metadata": {
    "collapsed": false
   },
   "outputs": [],
   "source": [
    "import requests\n",
    "    \n",
    "with open('phone_numbers.txt') as f:\n",
    "    phone_numbers = f.read().split('\\n')\n",
    "\n",
    "response = requests.post('https://textbelt.com/text', {\n",
    "  'phone': phone_numbers[0],\n",
    "  'message': 'Hello world',\n",
    "  'key': 'textbelt',\n",
    "})\n",
    "\n",
    "response.text"
   ]
  }
 ],
 "metadata": {
  "kernelspec": {
   "display_name": "Python 2",
   "language": "python",
   "name": "python2"
  },
  "language_info": {
   "codemirror_mode": {
    "name": "ipython",
    "version": 2
   },
   "file_extension": ".py",
   "mimetype": "text/x-python",
   "name": "python",
   "nbconvert_exporter": "python",
   "pygments_lexer": "ipython2",
   "version": "2.7.13"
  }
 },
 "nbformat": 4,
 "nbformat_minor": 2
}
