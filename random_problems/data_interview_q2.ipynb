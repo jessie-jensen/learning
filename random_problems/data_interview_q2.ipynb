{
 "cells": [
  {
   "cell_type": "markdown",
   "metadata": {},
   "source": [
    "## Data Q's: Problem #2\n",
    "\n",
    "Calculating a moving average using python\n",
    "You are given a list of numbers J and a single number p.\n",
    "Write a function to return the minimum and maximum averages of the sequences of p numbers in J. \n",
    "Example:\n",
    "\n",
    "J = [4, 4, 4, 9, 10, 11, 12]\n",
    "\n",
    "p = 3\n",
    "\n",
    "The sequences will be:\n",
    "\n",
    "(4,4,4)\n",
    "\n",
    "(4,4,9)\n",
    "\n",
    "(4,9,10)\n",
    "\n",
    "(9,10,11)\n",
    "\n",
    "(10,11,12)\n",
    "\n",
    "\n",
    "Minimum average will be 4 and the maximum average will be 11, which corresponds to the first and last sequences."
   ]
  },
  {
   "cell_type": "code",
   "execution_count": 19,
   "metadata": {},
   "outputs": [
    {
     "data": {
      "text/plain": [
       "(11.0, 4.0)"
      ]
     },
     "execution_count": 19,
     "metadata": {},
     "output_type": "execute_result"
    }
   ],
   "source": [
    "def get_moving_avg_max_and_min(num_l, p):\n",
    "    moving_avg_l = []\n",
    "    \n",
    "    for i in range(len(num_l) - p + 1):\n",
    "        moving_sum = 0\n",
    "        j = 0\n",
    "        while j < p:\n",
    "            moving_sum += num_l[i + j]\n",
    "            j += 1\n",
    "\n",
    "        moving_avg = moving_sum / p        \n",
    "        moving_avg_l.append(moving_avg)\n",
    "\n",
    "    return max(moving_avg_l), min(moving_avg_l)\n",
    "\n",
    "#test\n",
    "J = [4, 4, 4, 9, 10, 11, 12]\n",
    "p = 3\n",
    "get_moving_avg_max_and_min(J, p)"
   ]
  }
 ],
 "metadata": {
  "kernelspec": {
   "display_name": "Python 3",
   "language": "python",
   "name": "python3"
  },
  "language_info": {
   "codemirror_mode": {
    "name": "ipython",
    "version": 3
   },
   "file_extension": ".py",
   "mimetype": "text/x-python",
   "name": "python",
   "nbconvert_exporter": "python",
   "pygments_lexer": "ipython3",
   "version": "3.6.4"
  }
 },
 "nbformat": 4,
 "nbformat_minor": 2
}
