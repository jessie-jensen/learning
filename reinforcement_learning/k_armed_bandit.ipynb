{
 "cells": [
  {
   "cell_type": "markdown",
   "metadata": {},
   "source": [
    "# k-armed bandit problem\n",
    "### part 1 from the harderchoices.com blog\n",
    "\n",
    "https://harderchoices.com/2018/01/20/rl-basics-and-simple-k-armed-bandit-problem/"
   ]
  },
  {
   "cell_type": "code",
   "execution_count": 39,
   "metadata": {
    "collapsed": true
   },
   "outputs": [],
   "source": [
    "%matplotlib inline\n",
    "\n",
    "import numpy as np\n",
    "import pandas as pd\n",
    "import random\n",
    "import matplotlib.pyplot as plt\n",
    "plt.style.use('ggplot')"
   ]
  },
  {
   "cell_type": "code",
   "execution_count": 4,
   "metadata": {
    "collapsed": false
   },
   "outputs": [],
   "source": [
    "def generate_problem(k=10):\n",
    "    return np.random.normal(loc=0.0, scale=1, size=k)\n",
    "\n",
    "def generate_reward(problem, action):\n",
    "    return np.random.normal(loc=problem[action], scale=1)"
   ]
  },
  {
   "cell_type": "code",
   "execution_count": 12,
   "metadata": {
    "collapsed": false
   },
   "outputs": [
    {
     "name": "stdout",
     "output_type": "stream",
     "text": [
      "step #1\n",
      "{0: 1, 1: 0, 2: 0, 3: 0, 4: 0, 5: 0, 6: 0, 7: 0, 8: 0, 9: 0}\n",
      "{0: -1.557104992902074, 1: 0, 2: 0, 3: 0, 4: 0, 5: 0, 6: 0, 7: 0, 8: 0, 9: 0}\n",
      "\n",
      "step #2\n",
      "{0: 1, 1: 1, 2: 0, 3: 0, 4: 0, 5: 0, 6: 0, 7: 0, 8: 0, 9: 0}\n",
      "{0: -1.557104992902074, 1: -0.4798360946545515, 2: 0, 3: 0, 4: 0, 5: 0, 6: 0, 7: 0, 8: 0, 9: 0}\n",
      "\n",
      "step #3\n",
      "{0: 1, 1: 1, 2: 1, 3: 0, 4: 0, 5: 0, 6: 0, 7: 0, 8: 0, 9: 0}\n",
      "{0: -1.557104992902074, 1: -0.4798360946545515, 2: 0.6538871714072181, 3: 0, 4: 0, 5: 0, 6: 0, 7: 0, 8: 0, 9: 0}\n",
      "\n",
      "step #4\n",
      "{0: 1, 1: 1, 2: 2, 3: 0, 4: 0, 5: 0, 6: 0, 7: 0, 8: 0, 9: 0}\n",
      "{0: -1.557104992902074, 1: -0.4798360946545515, 2: 0.6538871714072181, 3: 0, 4: 0, 5: 0, 6: 0, 7: 0, 8: 0, 9: 0}\n",
      "\n",
      "step #5\n",
      "{0: 1, 1: 1, 2: 3, 3: 0, 4: 0, 5: 0, 6: 0, 7: 0, 8: 0, 9: 0}\n",
      "{0: -1.557104992902074, 1: -0.4798360946545515, 2: 0.6538871714072181, 3: 0, 4: 0, 5: 0, 6: 0, 7: 0, 8: 0, 9: 0}\n",
      "\n"
     ]
    },
    {
     "data": {
      "text/plain": [
       "[-1.557104992902074,\n",
       " -0.4798360946545515,\n",
       " 0.6538871714072181,\n",
       " -0.6306058943114607,\n",
       " -1.4261690226593289]"
      ]
     },
     "execution_count": 12,
     "metadata": {},
     "output_type": "execute_result"
    }
   ],
   "source": [
    "def k_bandit(problem, k, steps, exploration_rate, verbose=True, record_rewards=True):\n",
    "    Q = {i: 0 for i in range(k)} # value function\n",
    "    N = {i: 0 for i in range(k)} # number of actions, for update rule\n",
    "    \n",
    "    r = []\n",
    "    \n",
    "    for i in range(steps):\n",
    "        if (random.uniform(0,1) < exploration_rate):\n",
    "            #explore via random action\n",
    "            action = random.randint(0, k-1)\n",
    "        else:\n",
    "            #exploit max mean reward\n",
    "            action = max(Q, key=Q.get)\n",
    "        \n",
    "        reward = generate_reward(problem, action) #get reward for current action\n",
    "        N[action] += 1 #update action counter\n",
    "        Q[action] += (1 / N[action]) * (reward - Q[action]) #update value dict\n",
    "        \n",
    "        if verbose == True:\n",
    "            print 'step #' + str(i+1)\n",
    "            print N\n",
    "            print Q\n",
    "            print\n",
    "        \n",
    "        if record_rewards == True:\n",
    "            r.append(reward)\n",
    "        \n",
    "    \n",
    "    if record_rewards == True:\n",
    "        return r\n",
    "\n",
    "# test\n",
    "k = 10\n",
    "k_bandit(generate_problem(k), k, 5, .1, True, True)"
   ]
  },
  {
   "cell_type": "code",
   "execution_count": 43,
   "metadata": {
    "collapsed": false
   },
   "outputs": [
    {
     "data": {
      "text/html": [
       "<div>\n",
       "<style scoped>\n",
       "    .dataframe tbody tr th:only-of-type {\n",
       "        vertical-align: middle;\n",
       "    }\n",
       "\n",
       "    .dataframe tbody tr th {\n",
       "        vertical-align: top;\n",
       "    }\n",
       "\n",
       "    .dataframe thead th {\n",
       "        text-align: right;\n",
       "    }\n",
       "</style>\n",
       "<table border=\"1\" class=\"dataframe\">\n",
       "  <thead>\n",
       "    <tr style=\"text-align: right;\">\n",
       "      <th></th>\n",
       "      <th>l_1</th>\n",
       "      <th>l_2</th>\n",
       "      <th>l_greedy</th>\n",
       "    </tr>\n",
       "  </thead>\n",
       "  <tbody>\n",
       "    <tr>\n",
       "      <th>0</th>\n",
       "      <td>0.582139</td>\n",
       "      <td>2.268866</td>\n",
       "      <td>-1.329982</td>\n",
       "    </tr>\n",
       "    <tr>\n",
       "      <th>1</th>\n",
       "      <td>-0.732438</td>\n",
       "      <td>2.862093</td>\n",
       "      <td>-1.673450</td>\n",
       "    </tr>\n",
       "    <tr>\n",
       "      <th>2</th>\n",
       "      <td>0.680597</td>\n",
       "      <td>2.439514</td>\n",
       "      <td>-1.208293</td>\n",
       "    </tr>\n",
       "    <tr>\n",
       "      <th>3</th>\n",
       "      <td>1.096469</td>\n",
       "      <td>3.073178</td>\n",
       "      <td>2.225457</td>\n",
       "    </tr>\n",
       "    <tr>\n",
       "      <th>4</th>\n",
       "      <td>-0.395190</td>\n",
       "      <td>3.270405</td>\n",
       "      <td>1.593314</td>\n",
       "    </tr>\n",
       "  </tbody>\n",
       "</table>\n",
       "</div>"
      ],
      "text/plain": [
       "        l_1       l_2  l_greedy\n",
       "0  0.582139  2.268866 -1.329982\n",
       "1 -0.732438  2.862093 -1.673450\n",
       "2  0.680597  2.439514 -1.208293\n",
       "3  1.096469  3.073178  2.225457\n",
       "4 -0.395190  3.270405  1.593314"
      ]
     },
     "execution_count": 43,
     "metadata": {},
     "output_type": "execute_result"
    }
   ],
   "source": [
    "# generate df w/ different explore rates\n",
    "k = 10\n",
    "steps = 2000\n",
    "\n",
    "d = {'l_greedy' : k_bandit(generate_problem(k), k, steps, 0, False, True),\\\n",
    "     'l_1' : k_bandit(generate_problem(k), k, steps, 0.1, False, True),\\\n",
    "     'l_2' : k_bandit(generate_problem(k), k, steps, 0.2, False, True)}\n",
    "\n",
    "df = pd.DataFrame(data = d)\n",
    "df.head()"
   ]
  },
  {
   "cell_type": "code",
   "execution_count": 44,
   "metadata": {
    "collapsed": false
   },
   "outputs": [
    {
     "data": {
      "text/html": [
       "<div>\n",
       "<style scoped>\n",
       "    .dataframe tbody tr th:only-of-type {\n",
       "        vertical-align: middle;\n",
       "    }\n",
       "\n",
       "    .dataframe tbody tr th {\n",
       "        vertical-align: top;\n",
       "    }\n",
       "\n",
       "    .dataframe thead th {\n",
       "        text-align: right;\n",
       "    }\n",
       "</style>\n",
       "<table border=\"1\" class=\"dataframe\">\n",
       "  <thead>\n",
       "    <tr style=\"text-align: right;\">\n",
       "      <th></th>\n",
       "      <th>l_1</th>\n",
       "      <th>l_2</th>\n",
       "      <th>l_greedy</th>\n",
       "    </tr>\n",
       "  </thead>\n",
       "  <tbody>\n",
       "    <tr>\n",
       "      <th>0</th>\n",
       "      <td>0.582139</td>\n",
       "      <td>2.268866</td>\n",
       "      <td>-1.329982</td>\n",
       "    </tr>\n",
       "    <tr>\n",
       "      <th>1</th>\n",
       "      <td>-0.075150</td>\n",
       "      <td>2.565480</td>\n",
       "      <td>-1.501716</td>\n",
       "    </tr>\n",
       "    <tr>\n",
       "      <th>2</th>\n",
       "      <td>0.176766</td>\n",
       "      <td>2.523491</td>\n",
       "      <td>-1.403908</td>\n",
       "    </tr>\n",
       "    <tr>\n",
       "      <th>3</th>\n",
       "      <td>0.406692</td>\n",
       "      <td>2.660913</td>\n",
       "      <td>-0.496567</td>\n",
       "    </tr>\n",
       "    <tr>\n",
       "      <th>4</th>\n",
       "      <td>0.246315</td>\n",
       "      <td>2.782811</td>\n",
       "      <td>-0.078591</td>\n",
       "    </tr>\n",
       "  </tbody>\n",
       "</table>\n",
       "</div>"
      ],
      "text/plain": [
       "        l_1       l_2  l_greedy\n",
       "0  0.582139  2.268866 -1.329982\n",
       "1 -0.075150  2.565480 -1.501716\n",
       "2  0.176766  2.523491 -1.403908\n",
       "3  0.406692  2.660913 -0.496567\n",
       "4  0.246315  2.782811 -0.078591"
      ]
     },
     "execution_count": 44,
     "metadata": {},
     "output_type": "execute_result"
    }
   ],
   "source": [
    "df_expanding_means = df.apply(pd.expanding_mean)\n",
    "# df_expanding_means['steps'] = df_expanding_means.index + 1\n",
    "\n",
    "df_expanding_means.head()"
   ]
  },
  {
   "cell_type": "code",
   "execution_count": 46,
   "metadata": {
    "collapsed": false
   },
   "outputs": [
    {
     "data": {
      "text/plain": [
       "<matplotlib.axes._subplots.AxesSubplot at 0x1146ae3d0>"
      ]
     },
     "execution_count": 46,
     "metadata": {},
     "output_type": "execute_result"
    },
    {
     "data": {
      "image/png": "[encoded data removed]",
      "text/plain": [
       "<matplotlib.figure.Figure at 0x1141561d0>"
      ]
     },
     "metadata": {},
     "output_type": "display_data"
    }
   ],
   "source": [
    "df_expanding_means.plot()"
   ]
  },
  {
   "cell_type": "code",
   "execution_count": 50,
   "metadata": {
    "collapsed": false
   },
   "outputs": [
    {
     "data": {
      "text/html": [
       "<div>\n",
       "<style scoped>\n",
       "    .dataframe tbody tr th:only-of-type {\n",
       "        vertical-align: middle;\n",
       "    }\n",
       "\n",
       "    .dataframe tbody tr th {\n",
       "        vertical-align: top;\n",
       "    }\n",
       "\n",
       "    .dataframe thead th {\n",
       "        text-align: right;\n",
       "    }\n",
       "</style>\n",
       "<table border=\"1\" class=\"dataframe\">\n",
       "  <thead>\n",
       "    <tr style=\"text-align: right;\">\n",
       "      <th></th>\n",
       "      <th>l_1</th>\n",
       "      <th>l_2</th>\n",
       "      <th>l_greedy</th>\n",
       "      <th>simulation_id</th>\n",
       "      <th>steps</th>\n",
       "    </tr>\n",
       "  </thead>\n",
       "  <tbody>\n",
       "    <tr>\n",
       "      <th>0</th>\n",
       "      <td>-1.428781</td>\n",
       "      <td>-1.571918</td>\n",
       "      <td>0.344691</td>\n",
       "      <td>0.0</td>\n",
       "      <td>1</td>\n",
       "    </tr>\n",
       "    <tr>\n",
       "      <th>1</th>\n",
       "      <td>-0.837828</td>\n",
       "      <td>-0.772555</td>\n",
       "      <td>1.154137</td>\n",
       "      <td>0.0</td>\n",
       "      <td>2</td>\n",
       "    </tr>\n",
       "    <tr>\n",
       "      <th>2</th>\n",
       "      <td>0.093996</td>\n",
       "      <td>-0.887923</td>\n",
       "      <td>1.219219</td>\n",
       "      <td>0.0</td>\n",
       "      <td>3</td>\n",
       "    </tr>\n",
       "    <tr>\n",
       "      <th>3</th>\n",
       "      <td>0.235925</td>\n",
       "      <td>-0.580287</td>\n",
       "      <td>1.303360</td>\n",
       "      <td>0.0</td>\n",
       "      <td>4</td>\n",
       "    </tr>\n",
       "    <tr>\n",
       "      <th>4</th>\n",
       "      <td>0.485583</td>\n",
       "      <td>-0.383853</td>\n",
       "      <td>1.083185</td>\n",
       "      <td>0.0</td>\n",
       "      <td>5</td>\n",
       "    </tr>\n",
       "  </tbody>\n",
       "</table>\n",
       "</div>"
      ],
      "text/plain": [
       "        l_1       l_2  l_greedy  simulation_id steps\n",
       "0 -1.428781 -1.571918  0.344691            0.0     1\n",
       "1 -0.837828 -0.772555  1.154137            0.0     2\n",
       "2  0.093996 -0.887923  1.219219            0.0     3\n",
       "3  0.235925 -0.580287  1.303360            0.0     4\n",
       "4  0.485583 -0.383853  1.083185            0.0     5"
      ]
     },
     "execution_count": 50,
     "metadata": {},
     "output_type": "execute_result"
    }
   ],
   "source": [
    "# now lets do that a lot & average!\n",
    "\n",
    "def generate_simulations(simulations, k = 10, steps = 2000):\n",
    "    columns = ['l_1', 'l_2', 'l_greedy', 'steps']\n",
    "    df = pd.DataFrame(columns=columns) \n",
    "    \n",
    "    for i in range(simulations):\n",
    "        # simulate       \n",
    "        temp_d = {'l_greedy' : k_bandit(generate_problem(k), k, steps, 0, False, True),\\\n",
    "             'l_1' : k_bandit(generate_problem(k), k, steps, 0.1, False, True),\\\n",
    "             'l_2' : k_bandit(generate_problem(k), k, steps, 0.2, False, True)}\n",
    "        temp_df = pd.DataFrame(data = temp_d)\n",
    "        temp_df = temp_df.apply(pd.expanding_mean)\n",
    "        temp_df['steps'] = temp_df.index + 1\n",
    "        temp_df['simulation_id'] = i\n",
    "\n",
    "        # union with df\n",
    "        df = pd.concat([df, temp_df])\n",
    "    \n",
    "    return df\n",
    "\n",
    "#test\n",
    "sims_df = generate_simulations(1000)\n",
    "sims_df.head()"
   ]
  },
  {
   "cell_type": "code",
   "execution_count": 55,
   "metadata": {
    "collapsed": false
   },
   "outputs": [
    {
     "data": {
      "text/plain": [
       "<matplotlib.axes._subplots.AxesSubplot at 0x114b28690>"
      ]
     },
     "execution_count": 55,
     "metadata": {},
     "output_type": "execute_result"
    },
    {
     "data": {
      "image/png": "[encoded data removed]",
      "text/plain": [
       "<matplotlib.figure.Figure at 0x114b1a390>"
      ]
     },
     "metadata": {},
     "output_type": "display_data"
    }
   ],
   "source": [
    "sims_df.groupby(['steps'])['l_1', 'l_2', 'l_greedy'].mean().plot()"
   ]
  }
 ],
 "metadata": {
  "kernelspec": {
   "display_name": "Python 2",
   "language": "python",
   "name": "python2"
  },
  "language_info": {
   "codemirror_mode": {
    "name": "ipython",
    "version": 2
   },
   "file_extension": ".py",
   "mimetype": "text/x-python",
   "name": "python",
   "nbconvert_exporter": "python",
   "pygments_lexer": "ipython2",
   "version": "2.7.13"
  }
 },
 "nbformat": 4,
 "nbformat_minor": 2
}
