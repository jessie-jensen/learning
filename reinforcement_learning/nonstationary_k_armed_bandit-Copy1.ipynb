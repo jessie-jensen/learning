{
 "cells": [
  {
   "cell_type": "markdown",
   "metadata": {},
   "source": [
    "# exploring ucb & bayesian bandits\n",
    "### building on the non-stationary k-armed bandit problem framework"
   ]
  },
  {
   "cell_type": "code",
   "execution_count": 1,
   "metadata": {},
   "outputs": [],
   "source": [
    "%matplotlib inline\n",
    "\n",
    "import numpy as np\n",
    "import random\n",
    "import pandas as pd\n",
    "import matplotlib.pyplot as plt\n",
    "plt.style.use('ggplot')"
   ]
  },
  {
   "cell_type": "code",
   "execution_count": 2,
   "metadata": {},
   "outputs": [],
   "source": [
    "class KBanditProblem:\n",
    "    \n",
    "    def __init__(self, k=10, stationary=True):\n",
    "        self.k = k\n",
    "        self.stationary = stationary\n",
    "        self.values = np.random.normal(loc=0.0, scale=1, size=k)\n",
    "        self.optimal = self.values.argmax()\n",
    "        \n",
    "    def generate_reward(self, action):\n",
    "        if not self.stationary:\n",
    "            self.values += np.random.normal(loc=0.0, scale=0.01, size=self.k)\n",
    "            self.optimal = self.values.argmax()\n",
    "            \n",
    "        return np.random.normal(loc=self.values[action], scale=1)"
   ]
  },
  {
   "cell_type": "code",
   "execution_count": 3,
   "metadata": {},
   "outputs": [],
   "source": [
    "class KBanditSolution:\n",
    "    \n",
    "    def __init__(self, problem, steps):\n",
    "        self.problem = problem\n",
    "        self.steps = steps\n",
    "        \n",
    "        self.average_reward = 0\n",
    "        self.average_rewards = np.array([])\n",
    "        self.optimal_percentage = 0\n",
    "        self.optimal_percentages = np.array([])\n",
    "        \n",
    "    def count_statistics(self, action, reward, step):\n",
    "        self.average_reward += (reward - self.average_reward) / (step + 1)\n",
    "        self.average_rewards = np.append(self.average_rewards, self.average_reward)\n",
    "        \n",
    "        self.optimal_percentage += ((1 if action == self.problem.optimal else 0) - self.optimal_percentage) / (step + 1)\n",
    "        self.optimal_percentages = np.append(self.optimal_percentages, self.optimal_percentage)"
   ]
  },
  {
   "cell_type": "markdown",
   "metadata": {},
   "source": [
    "### validate e-greedy static solution"
   ]
  },
  {
   "cell_type": "code",
   "execution_count": 4,
   "metadata": {},
   "outputs": [],
   "source": [
    "class EGreedy(KBanditSolution):\n",
    "    \n",
    "    # same solver algo previously discussed\n",
    "    def solve(self, exploration_rate, initial_value=0):\n",
    "        Q = {i: initial_value for i in range(self.problem.k)} # value func\n",
    "        N = {i: 0 for i in range(self.problem.k)} # action counter\n",
    "        \n",
    "        for i in range(self.steps):\n",
    "            if (random.uniform(0,1) < exploration_rate):\n",
    "                action = random.randint(0, self.problem.k-1)\n",
    "            else:\n",
    "                action = max(Q, key=Q.get)\n",
    "        \n",
    "            reward = self.problem.generate_reward(action)\n",
    "            N[action] += 1\n",
    "            Q[action] += (reward - Q[action]) / N[action]\n",
    "            self.count_statistics(action, reward, i)"
   ]
  },
  {
   "cell_type": "code",
   "execution_count": 5,
   "metadata": {},
   "outputs": [
    {
     "name": "stdout",
     "output_type": "stream",
     "text": [
      "750000\n"
     ]
    },
    {
     "data": {
      "text/html": [
       "<div>\n",
       "<style scoped>\n",
       "    .dataframe tbody tr th:only-of-type {\n",
       "        vertical-align: middle;\n",
       "    }\n",
       "\n",
       "    .dataframe tbody tr th {\n",
       "        vertical-align: top;\n",
       "    }\n",
       "\n",
       "    .dataframe thead th {\n",
       "        text-align: right;\n",
       "    }\n",
       "</style>\n",
       "<table border=\"1\" class=\"dataframe\">\n",
       "  <thead>\n",
       "    <tr style=\"text-align: right;\">\n",
       "      <th></th>\n",
       "      <th>optimal_pct</th>\n",
       "      <th>rate</th>\n",
       "      <th>reward_avg</th>\n",
       "      <th>simulation</th>\n",
       "      <th>step</th>\n",
       "    </tr>\n",
       "  </thead>\n",
       "  <tbody>\n",
       "    <tr>\n",
       "      <th>0</th>\n",
       "      <td>0.0</td>\n",
       "      <td>0</td>\n",
       "      <td>0.656297</td>\n",
       "      <td>0</td>\n",
       "      <td>1</td>\n",
       "    </tr>\n",
       "    <tr>\n",
       "      <th>1</th>\n",
       "      <td>0.0</td>\n",
       "      <td>0</td>\n",
       "      <td>1.549492</td>\n",
       "      <td>0</td>\n",
       "      <td>2</td>\n",
       "    </tr>\n",
       "    <tr>\n",
       "      <th>2</th>\n",
       "      <td>0.0</td>\n",
       "      <td>0</td>\n",
       "      <td>1.851933</td>\n",
       "      <td>0</td>\n",
       "      <td>3</td>\n",
       "    </tr>\n",
       "    <tr>\n",
       "      <th>3</th>\n",
       "      <td>0.0</td>\n",
       "      <td>0</td>\n",
       "      <td>1.867891</td>\n",
       "      <td>0</td>\n",
       "      <td>4</td>\n",
       "    </tr>\n",
       "    <tr>\n",
       "      <th>4</th>\n",
       "      <td>0.0</td>\n",
       "      <td>0</td>\n",
       "      <td>1.536822</td>\n",
       "      <td>0</td>\n",
       "      <td>5</td>\n",
       "    </tr>\n",
       "  </tbody>\n",
       "</table>\n",
       "</div>"
      ],
      "text/plain": [
       "   optimal_pct rate  reward_avg simulation step\n",
       "0          0.0    0    0.656297          0    1\n",
       "1          0.0    0    1.549492          0    2\n",
       "2          0.0    0    1.851933          0    3\n",
       "3          0.0    0    1.867891          0    4\n",
       "4          0.0    0    1.536822          0    5"
      ]
     },
     "execution_count": 5,
     "metadata": {},
     "output_type": "execute_result"
    }
   ],
   "source": [
    "# simulate against different exploit rates\n",
    "\n",
    "prob = KBanditProblem()\n",
    "steps = 500\n",
    "simulations = 500\n",
    "rates = [0, .1, .2]\n",
    "df = pd.DataFrame(columns=['simulation', 'rate','step','reward_avg','optimal_pct'])\n",
    "\n",
    "for i in range(simulations):\n",
    "    for rate in rates:\n",
    "        egreedy = EGreedy(prob, steps)\n",
    "        egreedy.solve(rate)\n",
    "\n",
    "        d = {'simulation':i,\n",
    "             'rate':rate,\n",
    "             'step':list(range(1, steps+1)),\n",
    "             'reward_avg': egreedy.average_rewards,\n",
    "             'optimal_pct': egreedy.optimal_percentages}\n",
    "        temp_df = pd.DataFrame(data=d)\n",
    "\n",
    "        df = pd.concat([df, temp_df])\n",
    "\n",
    "\n",
    "print(len(df))\n",
    "df.head()"
   ]
  },
  {
   "cell_type": "code",
   "execution_count": 6,
   "metadata": {},
   "outputs": [
    {
     "data": {
      "text/html": [
       "<div>\n",
       "<style scoped>\n",
       "    .dataframe tbody tr th:only-of-type {\n",
       "        vertical-align: middle;\n",
       "    }\n",
       "\n",
       "    .dataframe tbody tr th {\n",
       "        vertical-align: top;\n",
       "    }\n",
       "\n",
       "    .dataframe thead th {\n",
       "        text-align: right;\n",
       "    }\n",
       "</style>\n",
       "<table border=\"1\" class=\"dataframe\">\n",
       "  <thead>\n",
       "    <tr style=\"text-align: right;\">\n",
       "      <th></th>\n",
       "      <th></th>\n",
       "      <th>optimal_pct</th>\n",
       "      <th>reward_avg</th>\n",
       "    </tr>\n",
       "    <tr>\n",
       "      <th>rate</th>\n",
       "      <th>step</th>\n",
       "      <th></th>\n",
       "      <th></th>\n",
       "    </tr>\n",
       "  </thead>\n",
       "  <tbody>\n",
       "    <tr>\n",
       "      <th rowspan=\"5\" valign=\"top\">0.0</th>\n",
       "      <th>1</th>\n",
       "      <td>0.0</td>\n",
       "      <td>1.540400</td>\n",
       "    </tr>\n",
       "    <tr>\n",
       "      <th>2</th>\n",
       "      <td>0.0</td>\n",
       "      <td>1.437636</td>\n",
       "    </tr>\n",
       "    <tr>\n",
       "      <th>3</th>\n",
       "      <td>0.0</td>\n",
       "      <td>1.430849</td>\n",
       "    </tr>\n",
       "    <tr>\n",
       "      <th>4</th>\n",
       "      <td>0.0</td>\n",
       "      <td>1.426460</td>\n",
       "    </tr>\n",
       "    <tr>\n",
       "      <th>5</th>\n",
       "      <td>0.0</td>\n",
       "      <td>1.444396</td>\n",
       "    </tr>\n",
       "  </tbody>\n",
       "</table>\n",
       "</div>"
      ],
      "text/plain": [
       "           optimal_pct  reward_avg\n",
       "rate step                         \n",
       "0.0  1             0.0    1.540400\n",
       "     2             0.0    1.437636\n",
       "     3             0.0    1.430849\n",
       "     4             0.0    1.426460\n",
       "     5             0.0    1.444396"
      ]
     },
     "execution_count": 6,
     "metadata": {},
     "output_type": "execute_result"
    }
   ],
   "source": [
    "plot_df = df.groupby(['rate','step']).mean()\n",
    "plot_df.head()"
   ]
  },
  {
   "cell_type": "code",
   "execution_count": 7,
   "metadata": {},
   "outputs": [
    {
     "data": {
      "text/plain": [
       "<matplotlib.axes._subplots.AxesSubplot at 0x106826d30>"
      ]
     },
     "execution_count": 7,
     "metadata": {},
     "output_type": "execute_result"
    },
    {
     "data": {
      "image/png": "[encoded data removed]",
      "text/plain": [
       "<Figure size 432x288 with 1 Axes>"
      ]
     },
     "metadata": {},
     "output_type": "display_data"
    }
   ],
   "source": [
    "plot_df['reward_avg'].unstack(level=0).plot(title = 'E-Greedy: Average Reward ({} simulations)'.format(simulations))"
   ]
  },
  {
   "cell_type": "code",
   "execution_count": 10,
   "metadata": {},
   "outputs": [
    {
     "data": {
      "text/plain": [
       "<matplotlib.axes._subplots.AxesSubplot at 0x1093da3c8>"
      ]
     },
     "execution_count": 10,
     "metadata": {},
     "output_type": "execute_result"
    },
    {
     "data": {
      "image/png": "[encoded data removed]",
      "text/plain": [
       "<Figure size 432x288 with 1 Axes>"
      ]
     },
     "metadata": {},
     "output_type": "display_data"
    }
   ],
   "source": [
    "plot_df['optimal_pct'].unstack(level=0).plot(title = 'E-Greedy: Average Optimal Choice Rate ({} simulations)'.format(simulations))"
   ]
  },
  {
   "cell_type": "markdown",
   "metadata": {},
   "source": [
    "### eval initial weights"
   ]
  },
  {
   "cell_type": "code",
   "execution_count": 14,
   "metadata": {},
   "outputs": [
    {
     "name": "stdout",
     "output_type": "stream",
     "text": [
      "500000\n"
     ]
    },
    {
     "data": {
      "text/html": [
       "<div>\n",
       "<style scoped>\n",
       "    .dataframe tbody tr th:only-of-type {\n",
       "        vertical-align: middle;\n",
       "    }\n",
       "\n",
       "    .dataframe tbody tr th {\n",
       "        vertical-align: top;\n",
       "    }\n",
       "\n",
       "    .dataframe thead th {\n",
       "        text-align: right;\n",
       "    }\n",
       "</style>\n",
       "<table border=\"1\" class=\"dataframe\">\n",
       "  <thead>\n",
       "    <tr style=\"text-align: right;\">\n",
       "      <th></th>\n",
       "      <th>init_value</th>\n",
       "      <th>optimal_pct</th>\n",
       "      <th>reward_avg</th>\n",
       "      <th>simulation</th>\n",
       "      <th>step</th>\n",
       "    </tr>\n",
       "  </thead>\n",
       "  <tbody>\n",
       "    <tr>\n",
       "      <th>0</th>\n",
       "      <td>0</td>\n",
       "      <td>0.0</td>\n",
       "      <td>0.486466</td>\n",
       "      <td>0</td>\n",
       "      <td>1</td>\n",
       "    </tr>\n",
       "    <tr>\n",
       "      <th>1</th>\n",
       "      <td>0</td>\n",
       "      <td>0.0</td>\n",
       "      <td>0.058360</td>\n",
       "      <td>0</td>\n",
       "      <td>2</td>\n",
       "    </tr>\n",
       "    <tr>\n",
       "      <th>2</th>\n",
       "      <td>0</td>\n",
       "      <td>0.0</td>\n",
       "      <td>-0.009947</td>\n",
       "      <td>0</td>\n",
       "      <td>3</td>\n",
       "    </tr>\n",
       "    <tr>\n",
       "      <th>3</th>\n",
       "      <td>0</td>\n",
       "      <td>0.0</td>\n",
       "      <td>0.161583</td>\n",
       "      <td>0</td>\n",
       "      <td>4</td>\n",
       "    </tr>\n",
       "    <tr>\n",
       "      <th>4</th>\n",
       "      <td>0</td>\n",
       "      <td>0.0</td>\n",
       "      <td>-0.284136</td>\n",
       "      <td>0</td>\n",
       "      <td>5</td>\n",
       "    </tr>\n",
       "  </tbody>\n",
       "</table>\n",
       "</div>"
      ],
      "text/plain": [
       "  init_value  optimal_pct  reward_avg simulation step\n",
       "0          0          0.0    0.486466          0    1\n",
       "1          0          0.0    0.058360          0    2\n",
       "2          0          0.0   -0.009947          0    3\n",
       "3          0          0.0    0.161583          0    4\n",
       "4          0          0.0   -0.284136          0    5"
      ]
     },
     "execution_count": 14,
     "metadata": {},
     "output_type": "execute_result"
    }
   ],
   "source": [
    "# simulate against different initial values\n",
    "\n",
    "prob = KBanditProblem()\n",
    "steps = 500\n",
    "simulations = 500\n",
    "rate = .2\n",
    "\n",
    "init_vals = [0, 1] \n",
    "\n",
    "df = pd.DataFrame(columns=['simulation', 'init_value','step','reward_avg','optimal_pct'])\n",
    "\n",
    "for i in range(simulations):\n",
    "    for init_val in init_vals:\n",
    "        egreedy = EGreedy(prob, steps)\n",
    "        egreedy.solve(rate, init_val)\n",
    "\n",
    "        d = {'simulation':i,\n",
    "             'init_value': init_val,\n",
    "             'step':list(range(1, steps+1)),\n",
    "             'reward_avg': egreedy.average_rewards,\n",
    "             'optimal_pct': egreedy.optimal_percentages}\n",
    "        temp_df = pd.DataFrame(data=d)\n",
    "\n",
    "        df = pd.concat([df, temp_df])\n",
    "\n",
    "\n",
    "print(len(df))\n",
    "df.head()"
   ]
  },
  {
   "cell_type": "code",
   "execution_count": 15,
   "metadata": {},
   "outputs": [
    {
     "data": {
      "text/plain": [
       "<matplotlib.axes._subplots.AxesSubplot at 0x10a382c18>"
      ]
     },
     "execution_count": 15,
     "metadata": {},
     "output_type": "execute_result"
    },
    {
     "data": {
      "image/png": "[encoded data removed]",
      "text/plain": [
       "<Figure size 432x288 with 1 Axes>"
      ]
     },
     "metadata": {},
     "output_type": "display_data"
    }
   ],
   "source": [
    "plot_df = df.groupby(['init_value','step']).mean()\n",
    "plot_df['reward_avg'].unstack(level=0).plot(title = 'E-Greedy Initial Action Value Assumptions: Average Reward ({} simulations)'.format(simulations))"
   ]
  },
  {
   "cell_type": "code",
   "execution_count": 16,
   "metadata": {},
   "outputs": [
    {
     "data": {
      "text/plain": [
       "<matplotlib.axes._subplots.AxesSubplot at 0x10a36f978>"
      ]
     },
     "execution_count": 16,
     "metadata": {},
     "output_type": "execute_result"
    },
    {
     "data": {
      "image/png": "[encoded data removed]",
      "text/plain": [
       "<Figure size 432x288 with 1 Axes>"
      ]
     },
     "metadata": {},
     "output_type": "display_data"
    }
   ],
   "source": [
    "plot_df['optimal_pct'].unstack(level=0).plot(title = 'E-Greedy Initial Action Value Assumptions: Average Optimal Choice Rate ({} simulations)'.format(simulations))"
   ]
  },
  {
   "cell_type": "markdown",
   "metadata": {},
   "source": [
    "# Upper-Confidence-Bound (UCB)"
   ]
  },
  {
   "cell_type": "code",
   "execution_count": null,
   "metadata": {},
   "outputs": [],
   "source": []
  }
 ],
 "metadata": {
  "kernelspec": {
   "display_name": "Python 3",
   "language": "python",
   "name": "python3"
  },
  "language_info": {
   "codemirror_mode": {
    "name": "ipython",
    "version": 3
   },
   "file_extension": ".py",
   "mimetype": "text/x-python",
   "name": "python",
   "nbconvert_exporter": "python",
   "pygments_lexer": "ipython3",
   "version": "3.6.4"
  }
 },
 "nbformat": 4,
 "nbformat_minor": 2
}
