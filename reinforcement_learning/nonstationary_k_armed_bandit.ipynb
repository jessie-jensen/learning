{
 "cells": [
  {
   "cell_type": "markdown",
   "metadata": {},
   "source": [
    "# non stationary k-armed bandit problem\n",
    "### part 2 from the harderchoices.com blog\n",
    "\n",
    "https://harderchoices.com/2018/01/29/non-stationary-k-armed-bandit-problem/"
   ]
  },
  {
   "cell_type": "code",
   "execution_count": 1,
   "metadata": {
    "collapsed": true
   },
   "outputs": [],
   "source": [
    "import numpy as np"
   ]
  },
  {
   "cell_type": "code",
   "execution_count": 2,
   "metadata": {
    "collapsed": true
   },
   "outputs": [],
   "source": [
    "class KBanditProblem:\n",
    "    \n",
    "    def __init__(self, k, stationary=True):\n",
    "        self.k = k\n",
    "        self.stationary = stationary\n",
    "        self.values = np.random.normal(loc=0.0, scale=1, size=k)\n",
    "        self.optimal = self.values.argmax()\n",
    "        \n",
    "    def generate_reward(self, action):\n",
    "        if not self.stationary:\n",
    "            self.values += np.random.normal(loc=0.0, scale=0.01, size=self.k)\n",
    "            self.optimal = self.values.argmax()\n",
    "        return np.random.normal(loc=self.values[action], scale=1)\n",
    "    \n",
    "    \n",
    "class KBanditSolution:\n",
    "    \n",
    "    def __init__(self, problem, steps):\n",
    "        self.problem = problem\n",
    "        self.steps = steps\n",
    "        \n",
    "        self.average_reward = 0\n",
    "        self.average_rewards = np.array([])\n",
    "        self.optimal_percentage = 0\n",
    "        self.optimal_percentages = np.array([])\n",
    "        \n",
    "    def count_statistics(self, action, reward, step):\n",
    "        self.average_rewa"
   ]
  },
  {
   "cell_type": "code",
   "execution_count": null,
   "metadata": {
    "collapsed": true
   },
   "outputs": [],
   "source": []
  }
 ],
 "metadata": {
  "kernelspec": {
   "display_name": "Python 2",
   "language": "python",
   "name": "python2"
  },
  "language_info": {
   "codemirror_mode": {
    "name": "ipython",
    "version": 2
   },
   "file_extension": ".py",
   "mimetype": "text/x-python",
   "name": "python",
   "nbconvert_exporter": "python",
   "pygments_lexer": "ipython2",
   "version": "2.7.13"
  }
 },
 "nbformat": 4,
 "nbformat_minor": 2
}
